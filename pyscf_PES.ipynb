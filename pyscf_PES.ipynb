{
 "cells": [
  {
   "cell_type": "code",
   "execution_count": 7,
   "metadata": {
    "button": false,
    "jupyter": {
     "outputs_hidden": false
    },
    "new_sheet": false,
    "run_control": {
     "read_only": false
    }
   },
   "outputs": [],
   "source": [
    "#PES for Water\n",
    "import pyscf\n",
    "import numpy as np\n",
    "def PES(Key, pos, molecule):\n",
    "    # **** Input ****\n",
    "    # Positions: angstroms [Å]\n",
    "    \n",
    "    #using the data that is already provided. \n",
    "    r1=Key[1]\n",
    "    r2=Key[2]\n",
    "    angle=Key[4]\n",
    "    #r1,r2 and angle (angs and radian)\n",
    "\n",
    "    ca=np.cos(angle)\n",
    "    sa=np.sin(angle)\n",
    "    \n",
    "    A = molecule[0]\n",
    "    B = molecule[1]\n",
    "    C = molecule[2]\n",
    "\n",
    "    mypos='%s %f 0 0; %s 0 0 0; %s %f %f 0'%(A, r1, B, C, r2*ca,r2*sa)\n",
    "\n",
    "    #aternative instead use cartesian coords\n",
    "   \n",
    "    mypos='%s %.10f %.10f %.10f; %s %.10f %.10f %.10f; %s %.10f %.10f %.10f'%(A, pos[0][0],pos[0][1],pos[0][2], B, pos[1][0],pos[1][1],pos[1][2], C, pos[2][0],pos[2][1],pos[2][2])\n",
    "    mymol = pyscf.M(atom = mypos, basis = 'def2-tzvpd', symmetry = False,)\n",
    "    \n",
    "    #DFT calculation\n",
    "    mf = mymol.KS()\n",
    "    \n",
    "    #Choose functional\n",
    "    #See also pyscf/dft/libxc.py and pyscf/dft/xcfun.py for the complete list of available XC functionals.\n",
    "    #mf.xc = 'svwn' # shorthand for slater,vwn\n",
    "    #mf.xc = 'bp86' # shorthand for b88,p86\n",
    "    #mf.xc = 'blyp' # shorthand for b88,lyp\n",
    "    #mf.xc = 'pbe' # shorthand for pbe,pbe\n",
    "    #mf.xc = 'lda,vwn_rpa'\n",
    "    #mf.xc = 'b97,pw91'\n",
    "    #mf.xc = 'pbe0'\n",
    "    #mf.xc = 'b3p86'\n",
    "    #mf.xc = 'wb97x'\n",
    "    #mf.xc = '' or mf.xc = None # Hartree term only, without exchange\n",
    "    #mf.xc = 'b3lyp'\n",
    "    #mf.x = \"b97_1x\"\n",
    "    #mf.c = \"b97_1c\"\n",
    "    \n",
    "    mf.xc = \"B97-1\"\n",
    "    \n",
    "    #compute the energy (in Hartrees)\n",
    "    E_Total=mf.kernel()\n",
    "    \n",
    "    return E_Total"
   ]
  },
  {
   "cell_type": "code",
   "execution_count": null,
   "metadata": {},
   "outputs": [],
   "source": []
  }
 ],
 "metadata": {
  "kernelspec": {
   "display_name": "Python 3",
   "language": "python",
   "name": "python3"
  },
  "language_info": {
   "codemirror_mode": {
    "name": "ipython",
    "version": 3
   },
   "file_extension": ".py",
   "mimetype": "text/x-python",
   "name": "python",
   "nbconvert_exporter": "python",
   "pygments_lexer": "ipython3",
   "version": "3.8.3"
  }
 },
 "nbformat": 4,
 "nbformat_minor": 4
}
