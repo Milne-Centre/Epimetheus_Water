{
 "cells": [
  {
   "cell_type": "code",
   "execution_count": 2,
   "metadata": {},
   "outputs": [],
   "source": [
    "#UNIT CONVERSIONS (Last check and source date: 24/03/2022)\n",
    "\n",
    "# [Hartree][Bohr]^-2 -> [mdyne][Å]^-1 \n",
    "hartree_per_bohr2_to_mdyne_per_angstrom = 15.569141\n",
    "# [mdyne][Å]^-1 -> [Hartree][Bohr]^-2 \n",
    "mdyne_per_angstrom_to_hartree_per_bohr2 = 1/hartree_per_bohr2_to_mdyne_per_angstrom\n",
    "# [SOURCE: http://stemwomen.org/teach/QM/qm54.pdf]\n",
    "\n",
    "# [Hartree][rad]^-2 -> [mdyne][Å] \n",
    "hartree_per_rad2_to_mdyne_angstrom = 4.3598\n",
    "# [mdyne][Å] -> [Hartree][rad]^-2 \n",
    "mdyne_angstrom_to_hartree_per_rad2 = 1/hartree_per_rad2_to_mdyne_angstrom\n",
    "# [SOURCE: http://stemwomen.org/teach/QM/qm54.pdf]\n",
    "\n",
    "# [Bohr] -> [Å] \n",
    "bohr_to_angstrom = 0.529177249\n",
    "# [Å] -> [Bohr]\n",
    "angstrom_to_bohr = 1/bohr_to_angstrom\n",
    "# [SOURCE: http://stemwomen.org/teach/QM/qm54.pdf]\n",
    "\n",
    "# [Bohrs] -> [m]\n",
    "bohr_to_m = 5.29177210903e-11\n",
    "# [m] -> [Bohrs]\n",
    "m_to_bohr = 1/bohr_to_m\n",
    "# [SOURCE: https://physics.nist.gov/cgi-bin/cuu/Value?bohrrada0]\n",
    "\n",
    "# [Hartree] -> [J]\n",
    "hartree_to_j = 4.3597447222071e-18 \n",
    "# [J] -> [Hartree]\n",
    "j_to_hartree = 1/hartree_to_j\n",
    "# [SOURCE: https://physics.nist.gov/cgi-bin/cuu/Value?hrj]\n",
    "\n",
    "# [kg] -> [m_e]\n",
    "kg_to_me = 1.0977683828808e30\n",
    "# [m_e] -> [kg]\n",
    "me_to_kg = 1/kg_to_me \n",
    "# [SOURCE: https://www.unitconverters.net/weight-and-mass/kilogram-to-electron-mass-rest.htm]\n",
    "\n",
    "# [Hartree] -> [kJ][mol]^-1\n",
    "hartree_to_kj_per_mol = 2625.5\n",
    "# [kJ][mol]^-1 -> [Hartree]\n",
    "kj_per_mol_to_hartree = 1/hartree_to_kj_per_mol\n",
    "# [SOURCE: http://wild.life.nctu.edu.tw/class/common/energy-unit-conv-table.html]\n",
    "\n",
    "# [Hartree] -> [cm]^-1\n",
    "hartree_to_wn = 2.1947463e5\n",
    "# [cm]^-1 -> [Hartree]\n",
    "wn_to_hartree = 1/hartree_to_wn\n",
    "# [SOURCE: http://wild.life.nctu.edu.tw/class/common/energy-unit-conv-table.html]\n",
    "\n",
    "# Changing speed of light from m^-1 to cm^-1\n",
    "from scipy.constants import c\n",
    "c_cm = c*100"
   ]
  },
  {
   "cell_type": "code",
   "execution_count": null,
   "metadata": {},
   "outputs": [],
   "source": []
  }
 ],
 "metadata": {
  "kernelspec": {
   "display_name": "Python 3",
   "language": "python",
   "name": "python3"
  },
  "language_info": {
   "codemirror_mode": {
    "name": "ipython",
    "version": 3
   },
   "file_extension": ".py",
   "mimetype": "text/x-python",
   "name": "python",
   "nbconvert_exporter": "python",
   "pygments_lexer": "ipython3",
   "version": "3.8.3"
  }
 },
 "nbformat": 4,
 "nbformat_minor": 4
}
