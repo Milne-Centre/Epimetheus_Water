{
 "cells": [
  {
   "cell_type": "code",
   "execution_count": 1,
   "metadata": {
    "button": false,
    "new_sheet": false,
    "run_control": {
     "read_only": false
    }
   },
   "outputs": [],
   "source": [
    "#Essential Constants\n",
    "from scipy.constants import h, c, hbar, u, k\n",
    "\n",
    "#Imports from other script/s\n",
    "from ipynb.fs.full.Conversions_Epimetheus import * #Conversion Doc\n",
    "from ipynb.fs.full.Atomic_Mass_Key import element #Mass Key File\n",
    "from ipynb.fs.full.EpiPan_Functions import * #All Functions\n",
    "\n",
    "#General Imports\n",
    "import numpy as np\n",
    "import matplotlib.pyplot as plt\n",
    "import scipy.linalg as la\n",
    "import itertools\n",
    "import pandas as pd"
   ]
  },
  {
   "cell_type": "code",
   "execution_count": 2,
   "metadata": {
    "button": false,
    "new_sheet": false,
    "run_control": {
     "read_only": false
    }
   },
   "outputs": [],
   "source": [
    "#Import Desired PES\n",
    "from ipynb.fs.full.water_PES_fortran import PES"
   ]
  },
  {
   "cell_type": "code",
   "execution_count": 3,
   "metadata": {
    "button": false,
    "new_sheet": false,
    "run_control": {
     "read_only": false
    }
   },
   "outputs": [],
   "source": [
    "#Import Desired Data\n",
    "prime_link = 1\n",
    "if type(prime_link) == str:\n",
    "    prime_data = pd.read_csv(prime_link, header=None, skiprows=None, sep=\",\")     \n",
    "    prime_data.to_csv(\"H2O_262_SPEC_HITRAN2020.csv\")\n",
    "    \n",
    "    prime_freq = prime_data.loc[:,0]\n",
    "    prime_freq = np.array(prime_freq)\n",
    "    \n",
    "    prime_intensity = prime_data.loc[:,1]\n",
    "    prime_intensity = np.array(prime_intensity)\n",
    "    prime_intensity = np.divide(prime_intensity, sum(prime_intensity))\n",
    "    \n",
    "elif prime_link == 1: \n",
    "    prime_data = pd.read_csv(\"H2O_262_SPEC_HITRAN2020.csv\", sep=\",\", header=None, skiprows=1)\n",
    "\n",
    "    prime_freq = prime_data.loc[:,1]\n",
    "    prime_freq = np.array(prime_freq)\n",
    "    \n",
    "    prime_intensity = prime_data.loc[:,2]\n",
    "    prime_intensity = np.array(prime_intensity)\n",
    "    prime_intensity = np.divide(prime_intensity, sum(prime_intensity))"
   ]
  },
  {
   "cell_type": "markdown",
   "metadata": {
    "button": false,
    "new_sheet": false,
    "run_control": {
     "read_only": false
    }
   },
   "source": [
    "### Manual Inputs"
   ]
  },
  {
   "cell_type": "code",
   "execution_count": 4,
   "metadata": {},
   "outputs": [],
   "source": [
    "molecule = [\"H\", \"O\", \"H\"]"
   ]
  },
  {
   "cell_type": "code",
   "execution_count": 5,
   "metadata": {
    "button": false,
    "new_sheet": false,
    "run_control": {
     "read_only": false
    }
   },
   "outputs": [],
   "source": [
    "#Temperature\n",
    "T = 300"
   ]
  },
  {
   "cell_type": "code",
   "execution_count": 6,
   "metadata": {
    "button": false,
    "new_sheet": false,
    "run_control": {
     "read_only": false
    }
   },
   "outputs": [],
   "source": [
    "#Positions/Bond Lengths/Angles\n",
    "r1=0.9576257\n",
    "r2=0.9576257\n",
    "alpha= 180 - 75.48992362\n",
    "coord = coord_triatomic(alpha, r1, r2)"
   ]
  },
  {
   "cell_type": "code",
   "execution_count": 7,
   "metadata": {
    "button": false,
    "new_sheet": false,
    "run_control": {
     "read_only": false
    }
   },
   "outputs": [],
   "source": [
    "mass = ((element[\"D\"] * u * kg_to_me), \n",
    "            (element[molecule[1]] * u * kg_to_me), \n",
    "            (element[\"D\"] * u * kg_to_me))"
   ]
  },
  {
   "cell_type": "code",
   "execution_count": 8,
   "metadata": {
    "button": false,
    "new_sheet": false,
    "run_control": {
     "read_only": false
    }
   },
   "outputs": [],
   "source": [
    "B, I, COMcoord = rot_inertia_rcom(coord, mass)"
   ]
  },
  {
   "cell_type": "markdown",
   "metadata": {
    "button": false,
    "new_sheet": false,
    "run_control": {
     "read_only": false
    }
   },
   "source": [
    "### Calculations "
   ]
  },
  {
   "cell_type": "code",
   "execution_count": 9,
   "metadata": {
    "button": false,
    "new_sheet": false,
    "run_control": {
     "read_only": false
    }
   },
   "outputs": [],
   "source": [
    "Key, Pos =  Key_and_Pos(coord)"
   ]
  },
  {
   "cell_type": "code",
   "execution_count": 10,
   "metadata": {
    "button": false,
    "new_sheet": false,
    "run_control": {
     "read_only": false
    }
   },
   "outputs": [],
   "source": [
    "PES_func = PES(Key, Pos, molecule)"
   ]
  },
  {
   "cell_type": "code",
   "execution_count": 11,
   "metadata": {
    "button": false,
    "new_sheet": false,
    "run_control": {
     "read_only": false
    }
   },
   "outputs": [
    {
     "data": {
      "application/vnd.jupyter.widget-view+json": {
       "model_id": "a90ed8c88a7d4e1d989ed291bdfa1bd5",
       "version_major": 2,
       "version_minor": 0
      },
      "text/plain": [
       "HBox(children=(FloatProgress(value=0.0, max=81.0), HTML(value='')))"
      ]
     },
     "metadata": {},
     "output_type": "display_data"
    },
    {
     "name": "stdout",
     "output_type": "stream",
     "text": [
      "\n"
     ]
    }
   ],
   "source": [
    "Hess = Hess_CART(Key, Pos, PES, molecule)"
   ]
  },
  {
   "cell_type": "code",
   "execution_count": 12,
   "metadata": {
    "button": false,
    "new_sheet": false,
    "run_control": {
     "read_only": false
    }
   },
   "outputs": [],
   "source": [
    "Hess_MWC_fin = Hess_MWC(Hess, Key, mass)"
   ]
  },
  {
   "cell_type": "code",
   "execution_count": 13,
   "metadata": {
    "button": false,
    "new_sheet": false,
    "run_control": {
     "read_only": false
    },
    "scrolled": true
   },
   "outputs": [
    {
     "name": "stdout",
     "output_type": "stream",
     "text": [
      "Fundamental frequencies [cm]^-1 =\n",
      "[2892.49537551 2764.94808273 1205.86956174   45.73637335   44.99319727\n",
      "   43.27561791]\n"
     ]
    }
   ],
   "source": [
    "eigvals, eigvecs, Hess_diag_au, Hess_diag_wn, fundamentals_au, fundamentals_wn = eigval_eigvec(Hess_MWC_fin)"
   ]
  },
  {
   "cell_type": "code",
   "execution_count": 14,
   "metadata": {
    "button": false,
    "new_sheet": false,
    "run_control": {
     "read_only": false
    }
   },
   "outputs": [],
   "source": [
    "eigvecs_UMW = UMW(eigvecs, mass, Key)"
   ]
  },
  {
   "cell_type": "code",
   "execution_count": 15,
   "metadata": {
    "button": false,
    "new_sheet": false,
    "run_control": {
     "read_only": false
    }
   },
   "outputs": [],
   "source": [
    "displace_vec, displace_val= displace_vec_and_val(eigvals, eigvecs_UMW)"
   ]
  },
  {
   "cell_type": "code",
   "execution_count": 16,
   "metadata": {
    "button": false,
    "new_sheet": false,
    "run_control": {
     "read_only": false
    },
    "scrolled": true
   },
   "outputs": [
    {
     "data": {
      "application/vnd.jupyter.widget-view+json": {
       "model_id": "42fafe9e8ac84899a7bc6460ab8c9ed5",
       "version_major": 2,
       "version_minor": 0
      },
      "text/plain": [
       "HBox(children=(FloatProgress(value=0.0, max=9.0), HTML(value='')))"
      ]
     },
     "metadata": {},
     "output_type": "display_data"
    },
    {
     "name": "stdout",
     "output_type": "stream",
     "text": [
      "\n"
     ]
    }
   ],
   "source": [
    "cubic = cubic_CART(Key, Pos, displace_vec, displace_val, PES, molecule)"
   ]
  },
  {
   "cell_type": "code",
   "execution_count": 17,
   "metadata": {
    "button": false,
    "new_sheet": false,
    "run_control": {
     "read_only": false
    },
    "scrolled": true
   },
   "outputs": [
    {
     "data": {
      "application/vnd.jupyter.widget-view+json": {
       "model_id": "435f8bc8e38e4dcebbf52e98e0221b93",
       "version_major": 2,
       "version_minor": 0
      },
      "text/plain": [
       "HBox(children=(FloatProgress(value=0.0, max=9.0), HTML(value='')))"
      ]
     },
     "metadata": {},
     "output_type": "display_data"
    },
    {
     "name": "stdout",
     "output_type": "stream",
     "text": [
      "\n"
     ]
    }
   ],
   "source": [
    "quartic = quartic_CART(Key, Pos, displace_vec, displace_val, PES, molecule)"
   ]
  },
  {
   "cell_type": "code",
   "execution_count": 18,
   "metadata": {
    "button": false,
    "new_sheet": false,
    "run_control": {
     "read_only": false
    },
    "scrolled": true
   },
   "outputs": [
    {
     "data": {
      "application/vnd.jupyter.widget-view+json": {
       "model_id": "761b2ea1ca164270ad596f9e5bd9b6fc",
       "version_major": 2,
       "version_minor": 0
      },
      "text/plain": [
       "HBox(children=(FloatProgress(value=0.0, max=9.0), HTML(value='')))"
      ]
     },
     "metadata": {},
     "output_type": "display_data"
    },
    {
     "name": "stdout",
     "output_type": "stream",
     "text": [
      "\n"
     ]
    }
   ],
   "source": [
    "sigma = sigma_ij(displace_val, cubic)"
   ]
  },
  {
   "cell_type": "code",
   "execution_count": 19,
   "metadata": {
    "button": false,
    "new_sheet": false,
    "run_control": {
     "read_only": false
    },
    "scrolled": true
   },
   "outputs": [
    {
     "name": "stdout",
     "output_type": "stream",
     "text": [
      "Corrected modes = [2783.52710432] vs Harm. = 2892.49630988819\n",
      "Corrected modes = [2702.65306534] vs Harm. = 2764.9489759040066\n",
      "Corrected modes = [1171.87577848] vs Harm. = 1205.8699512812204\n"
     ]
    }
   ],
   "source": [
    "deltaETOSH = deltaETOSH_ij(displace_val, cubic, quartic, sigma)"
   ]
  },
  {
   "cell_type": "code",
   "execution_count": 20,
   "metadata": {
    "button": false,
    "new_sheet": false,
    "run_control": {
     "read_only": false
    },
    "scrolled": false
   },
   "outputs": [],
   "source": [
    "allrot = all_rot_const(displace_vec, sigma, coord, mass, bohr_to_angstrom)"
   ]
  },
  {
   "cell_type": "code",
   "execution_count": null,
   "metadata": {},
   "outputs": [],
   "source": [
    "key_data = data_file_maker_triatomic(fundamentals_wn, deltaETOSH, B, allrot, \"H20_262_18MiKyZo\")"
   ]
  },
  {
   "cell_type": "code",
   "execution_count": 21,
   "metadata": {
    "button": false,
    "new_sheet": false,
    "run_control": {
     "read_only": false
    }
   },
   "outputs": [],
   "source": [
    "J_max_arr, A_rot, B_rot, C_rot = J_max_func(B, T)"
   ]
  },
  {
   "cell_type": "code",
   "execution_count": 22,
   "metadata": {
    "scrolled": false
   },
   "outputs": [],
   "source": [
    "P_nu1, P_rot_nu1, P_index_nu1 = asytop_v_P(\"H2O\", J_max_arr, \"B\", deltaETOSH[1] , A_rot, allrot[1][0], B_rot, allrot[1][1], C_rot, allrot[1][2])\n",
    "\n",
    "Q_nu1, Q_rot_nu1, Q_index_nu1 = asytop_v_Q(\"H2O\", J_max_arr, \"B\", deltaETOSH[1] , A_rot, allrot[1][0], B_rot, allrot[1][1], C_rot, allrot[1][2])\n",
    "\n",
    "R_nu1, R_rot_nu1, R_index_nu1 = asytop_v_R(\"H2O\", J_max_arr, \"B\", deltaETOSH[1] , A_rot, allrot[1][0], B_rot, allrot[1][1], C_rot, allrot[1][2])\n",
    "##"
   ]
  },
  {
   "cell_type": "code",
   "execution_count": 23,
   "metadata": {},
   "outputs": [],
   "source": [
    "P_nu2, P_rot_nu2, P_index_nu2 = asytop_v_P(\"H2O\", J_max_arr, \"B\", deltaETOSH[2] , A_rot, allrot[2][0], B_rot, allrot[2][1], C_rot, allrot[2][2])\n",
    "\n",
    "Q_nu2, Q_rot_nu2, Q_index_nu2 = asytop_v_Q(\"H2O\", J_max_arr, \"B\", deltaETOSH[2] , A_rot, allrot[2][0], B_rot, allrot[2][1], C_rot, allrot[2][2])\n",
    "\n",
    "R_nu2, R_rot_nu2, R_index_nu2 = asytop_v_R(\"H2O\", J_max_arr, \"B\", deltaETOSH[2] , A_rot, allrot[2][0], B_rot, allrot[2][1], C_rot, allrot[2][2])\n",
    "##"
   ]
  },
  {
   "cell_type": "code",
   "execution_count": 24,
   "metadata": {},
   "outputs": [],
   "source": [
    "P_nu3, P_rot_nu3, P_index_nu3 = asytop_v_P(\"H2O\", J_max_arr, \"A\", deltaETOSH[0] , A_rot, allrot[0][0], B_rot, allrot[0][1], C_rot, allrot[0][2])\n",
    "\n",
    "Q_nu3, Q_rot_nu3, Q_index_nu3 = asytop_v_Q(\"H2O\", J_max_arr, \"A\", deltaETOSH[0] , A_rot, allrot[0][0], B_rot, allrot[0][1], C_rot, allrot[0][2])\n",
    "\n",
    "R_nu3, R_rot_nu3, R_index_nu3 = asytop_v_R(\"H2O\", J_max_arr, \"A\", deltaETOSH[0] , A_rot, allrot[0][0], B_rot, allrot[0][1], C_rot, allrot[0][2])\n",
    "##"
   ]
  },
  {
   "cell_type": "code",
   "execution_count": 25,
   "metadata": {
    "button": false,
    "new_sheet": false,
    "run_control": {
     "read_only": false
    }
   },
   "outputs": [
    {
     "name": "stderr",
     "output_type": "stream",
     "text": [
      "/Users/thomascross/Documents/PhD/Codes/Epimetheus/H2O/EpiPan_Functions.ipynb:2422: VisibleDeprecationWarning: Creating an ndarray from ragged nested sequences (which is a list-or-tuple of lists-or-tuples-or ndarrays with different lengths or shapes) is deprecated. If you meant to do this, you must specify 'dtype=object' when creating the ndarray.\n",
      "  \"source\": [\n"
     ]
    }
   ],
   "source": [
    "nu1_I = Norm_I(P_rot_nu1, P_index_nu1, Q_rot_nu1, Q_index_nu1, R_rot_nu1, R_index_nu1, T, 1, 0.0051)\n",
    "##"
   ]
  },
  {
   "cell_type": "code",
   "execution_count": 26,
   "metadata": {
    "button": false,
    "new_sheet": false,
    "run_control": {
     "read_only": false
    }
   },
   "outputs": [],
   "source": [
    "nu2_I = Norm_I(P_rot_nu2, P_index_nu2, Q_rot_nu2, Q_index_nu2, R_rot_nu2, R_index_nu2, T, 1, 0.0317)\n",
    "##"
   ]
  },
  {
   "cell_type": "code",
   "execution_count": 27,
   "metadata": {
    "button": false,
    "new_sheet": false,
    "run_control": {
     "read_only": false
    }
   },
   "outputs": [],
   "source": [
    "nu3_I = Norm_I(P_rot_nu3, P_index_nu3, Q_rot_nu3, Q_index_nu3, R_rot_nu3, R_index_nu3, T, 1, 0.0225)\n",
    "##"
   ]
  },
  {
   "cell_type": "code",
   "execution_count": 28,
   "metadata": {
    "button": false,
    "new_sheet": false,
    "run_control": {
     "read_only": false
    }
   },
   "outputs": [
    {
     "name": "stderr",
     "output_type": "stream",
     "text": [
      "/Users/thomascross/Documents/PhD/Codes/Epimetheus/H2O/EpiPan_Functions.ipynb:2460: VisibleDeprecationWarning: Creating an ndarray from ragged nested sequences (which is a list-or-tuple of lists-or-tuples-or ndarrays with different lengths or shapes) is deprecated. If you meant to do this, you must specify 'dtype=object' when creating the ndarray.\n",
      "  \"                potential_trans = trans(molecule, i+2, j, i, typing)\\n\",\n"
     ]
    }
   ],
   "source": [
    "Final_I = Fin_I(nu1_I[0], nu1_I[1],nu1_I[2], nu2_I[0], nu2_I[1], nu2_I[2], nu3_I[0], nu3_I[1], nu3_I[2])\n",
    "##"
   ]
  },
  {
   "cell_type": "code",
   "execution_count": 29,
   "metadata": {},
   "outputs": [],
   "source": [
    "# Frequencies from: 14TeBeBr\n",
    "# Rotational Constants from: 84ReWaXX\n",
    "\n",
    "exp_B = (15.26, 7.30, 4.94)\n",
    "exp_J_max_arr, exp_A_rot, exp_B_rot, exp_C_rot = J_max_func(exp_B, T)\n",
    "\n",
    "mode_100 = 2671.645857\n",
    "A_mode_100 = 15.73\n",
    "B_mode_100 = 7.05\n",
    "C_mode_100 = 4.79\n",
    "\n",
    "exp_P_nu1, exp_P_rot_nu1, exp_P_index_nu1 = asytop_v_P(\"H2O\", exp_J_max_arr, \"B\", mode_100 , exp_A_rot, A_mode_100, exp_B_rot, B_mode_100, exp_C_rot, C_mode_100)\n",
    "exp_Q_nu1, exp_Q_rot_nu1, exp_Q_index_nu1 = asytop_v_Q(\"H2O\", exp_J_max_arr, \"B\", mode_100 , exp_A_rot, A_mode_100, exp_B_rot, B_mode_100, exp_C_rot, C_mode_100)\n",
    "exp_R_nu1, exp_R_rot_nu1, exp_R_index_nu1 = asytop_v_R(\"H2O\", exp_J_max_arr, \"B\", mode_100 , exp_A_rot, A_mode_100, exp_B_rot, B_mode_100, exp_C_rot, C_mode_100)\n",
    "\n",
    "mode_010 = 1178.378792\n",
    "A_mode_010 = 17.47\n",
    "B_mode_010 = 7.05\n",
    "C_mode_010 = 4.83\n",
    "\n",
    "exp_P_nu2, exp_P_rot_nu2, exp_P_index_nu2 = asytop_v_P(\"H2O\", exp_J_max_arr, \"B\", mode_010 , exp_A_rot, A_mode_010, exp_B_rot, B_mode_010, exp_C_rot, C_mode_010)\n",
    "exp_Q_nu2, exp_Q_rot_nu2, exp_Q_index_nu2 = asytop_v_Q(\"H2O\", exp_J_max_arr, \"B\", mode_010 , exp_A_rot, A_mode_010, exp_B_rot, B_mode_010, exp_C_rot, C_mode_010)\n",
    "exp_R_nu2, exp_R_rot_nu2, exp_R_index_nu2 = asytop_v_R(\"H2O\", exp_J_max_arr, \"B\", mode_010 , exp_A_rot, A_mode_010, exp_B_rot, B_mode_010, exp_C_rot, C_mode_010)\n",
    "\n",
    "mode_001 = 2787.717995\n",
    "A_mode_001 = 15.63 \n",
    "B_mode_001 = 7.02\n",
    "C_mode_001 = 4.74\n",
    "\n",
    "exp_P_nu3, exp_P_rot_nu3, exp_P_index_nu3 = asytop_v_P(\"H2O\", exp_J_max_arr, \"A\", mode_001 , exp_A_rot, A_mode_001, exp_B_rot, B_mode_001, exp_C_rot, C_mode_001)\n",
    "exp_Q_nu3, exp_Q_rot_nu3, exp_Q_index_nu3 = asytop_v_Q(\"H2O\", exp_J_max_arr, \"A\", mode_001 , exp_A_rot, A_mode_001, exp_B_rot, B_mode_001, exp_C_rot, C_mode_001)\n",
    "exp_R_nu3, exp_R_rot_nu3, exp_R_index_nu3 = asytop_v_R(\"H2O\", exp_J_max_arr, \"A\", mode_001 , exp_A_rot, A_mode_001, exp_B_rot, B_mode_001, exp_C_rot, C_mode_001)\n",
    "\n",
    "\n",
    "exp_nu1_I = Norm_I(exp_P_rot_nu1, exp_P_index_nu1, exp_Q_rot_nu1, exp_Q_index_nu1, exp_R_rot_nu1, exp_R_index_nu1, T, 1, 0.0051)\n",
    "##\n",
    "exp_nu2_I = Norm_I(exp_P_rot_nu2, exp_P_index_nu2, exp_Q_rot_nu2, exp_Q_index_nu2, exp_R_rot_nu2, exp_R_index_nu2, T, 1, 0.0317)\n",
    "##\n",
    "exp_nu3_I = Norm_I(exp_P_rot_nu3, exp_P_index_nu3, exp_Q_rot_nu3, exp_Q_index_nu3, exp_R_rot_nu3, exp_R_index_nu3, T, 1, 0.0225)\n",
    "##\n",
    "exp_Final_I = Fin_I(exp_nu1_I[0], exp_nu1_I[1], exp_nu1_I[2], exp_nu2_I[0], exp_nu2_I[1], exp_nu2_I[2], exp_nu3_I[0], exp_nu3_I[1], exp_nu3_I[2])\n",
    "\n",
    "##"
   ]
  },
  {
   "cell_type": "code",
   "execution_count": 30,
   "metadata": {},
   "outputs": [],
   "source": [
    "harm_B = (B[0], B[1], B[2])\n",
    "harm_J_max_arr, harm_A_rot, harm_B_rot, harm_C_rot = J_max_func(harm_B, T)\n",
    "\n",
    "harm_P_nu1, harm_P_rot_nu1, harm_P_index_nu1 = asytop_v_P(\"H2O\", harm_J_max_arr, \"B\", fundamentals_wn[1] , harm_A_rot, harm_A_rot, harm_B_rot, harm_B_rot, harm_C_rot, harm_C_rot)\n",
    "harm_Q_nu1, harm_Q_rot_nu1, harm_Q_index_nu1 = asytop_v_Q(\"H2O\", harm_J_max_arr, \"B\", fundamentals_wn[1] , harm_A_rot, harm_A_rot, harm_B_rot, harm_B_rot, harm_C_rot, harm_C_rot)\n",
    "harm_R_nu1, harm_R_rot_nu1, harm_R_index_nu1 = asytop_v_R(\"H2O\", harm_J_max_arr, \"B\", fundamentals_wn[1] , harm_A_rot, harm_A_rot, harm_B_rot, harm_B_rot, harm_C_rot, harm_C_rot)\n",
    "\n",
    "harm_P_nu2, harm_P_rot_nu2, harm_P_index_nu2 = asytop_v_P(\"H2O\", harm_J_max_arr, \"B\", fundamentals_wn[2] , harm_A_rot, harm_A_rot, harm_B_rot, harm_B_rot, harm_C_rot, harm_C_rot)\n",
    "harm_Q_nu2, harm_Q_rot_nu2, harm_Q_index_nu2 = asytop_v_Q(\"H2O\", harm_J_max_arr, \"B\", fundamentals_wn[2] , harm_A_rot, harm_A_rot, harm_B_rot, harm_B_rot, harm_C_rot, harm_C_rot)\n",
    "harm_R_nu2, harm_R_rot_nu2, harm_R_index_nu2 = asytop_v_R(\"H2O\", harm_J_max_arr, \"B\", fundamentals_wn[2] , harm_A_rot, harm_A_rot, harm_B_rot, harm_B_rot, harm_C_rot, harm_C_rot)\n",
    "\n",
    "harm_P_nu3, harm_P_rot_nu3, harm_P_index_nu3 = asytop_v_P(\"H2O\", harm_J_max_arr, \"A\", fundamentals_wn[0] , harm_A_rot, harm_A_rot, harm_B_rot, harm_B_rot, harm_C_rot, harm_C_rot)\n",
    "harm_Q_nu3, harm_Q_rot_nu3, harm_Q_index_nu3 = asytop_v_Q(\"H2O\", harm_J_max_arr, \"A\", fundamentals_wn[0] , harm_A_rot, harm_A_rot, harm_B_rot, harm_B_rot, harm_C_rot, harm_C_rot)\n",
    "harm_R_nu3, harm_R_rot_nu3, harm_R_index_nu3 = asytop_v_R(\"H2O\", harm_J_max_arr, \"A\", fundamentals_wn[0] , harm_A_rot, harm_A_rot, harm_B_rot, harm_B_rot, harm_C_rot, harm_C_rot)\n",
    "\n",
    "\n",
    "harm_nu1_I = Norm_I(harm_P_rot_nu1, harm_P_index_nu1, harm_Q_rot_nu1, harm_Q_index_nu1, harm_R_rot_nu1, harm_R_index_nu1, T, 1, 0.0051)\n",
    "##\n",
    "harm_nu2_I = Norm_I(harm_P_rot_nu2, harm_P_index_nu2, harm_Q_rot_nu2, harm_Q_index_nu2, harm_R_rot_nu2, harm_R_index_nu2, T, 1, 0.0317)\n",
    "##\n",
    "harm_nu3_I = Norm_I(harm_P_rot_nu3, harm_P_index_nu3, harm_Q_rot_nu3, harm_Q_index_nu3, harm_R_rot_nu3, harm_R_index_nu3, T, 1, 0.0225)\n",
    "##\n",
    "harm_Final_I = Fin_I(harm_nu1_I[0], harm_nu1_I[1], harm_nu1_I[2], harm_nu2_I[0], harm_nu2_I[1], harm_nu2_I[2], harm_nu3_I[0], harm_nu3_I[1], harm_nu3_I[2])"
   ]
  },
  {
   "cell_type": "code",
   "execution_count": 35,
   "metadata": {
    "button": false,
    "new_sheet": false,
    "run_control": {
     "read_only": false
    },
    "scrolled": false
   },
   "outputs": [
    {
     "data": {
      "image/png": "[encoded data removed]",
      "text/plain": [
       "<Figure size 1152x576 with 1 Axes>"
      ]
     },
     "metadata": {
      "needs_background": "light"
     },
     "output_type": "display_data"
    }
   ],
   "source": [
    "plt.figure(figsize=(16,8))\n",
    "plt.vlines(prime_freq,0, -prime_intensity, color=\"k\", label=\"HITRAN 2020\", linewidth=.5)\n",
    "\n",
    "plt.vlines(P_nu1, 0, Final_I[0], \"red\", label=\"Epimetheus (18MiKy)\", linewidth=.5)\n",
    "plt.vlines(Q_nu1, 0, Final_I[1], \"red\", linewidth=.5)\n",
    "plt.vlines(R_nu1, 0, Final_I[2], \"red\", linewidth=.5)\n",
    "\n",
    "plt.vlines(P_nu2, 0, Final_I[3], \"red\", linewidth=.5)\n",
    "plt.vlines(Q_nu2, 0, Final_I[4], \"red\", linewidth=.5)\n",
    "plt.vlines(R_nu2, 0, Final_I[5], \"red\", linewidth=.5)\n",
    "\n",
    "plt.vlines(P_nu3, 0, Final_I[6], \"red\", linewidth=.5)\n",
    "plt.vlines(Q_nu3, 0, Final_I[7], \"red\", linewidth=.5)\n",
    "plt.vlines(R_nu3, 0, Final_I[8], \"red\", linewidth=.5)\n",
    "\n",
    "plt.vlines(harm_P_nu1, 0, harm_Final_I[0], \"green\", label=\"Harmonic (18MiKy)\", linewidth=.5)\n",
    "plt.vlines(harm_Q_nu1, 0, harm_Final_I[1], \"green\", linewidth=.5)\n",
    "plt.vlines(harm_R_nu1, 0, harm_Final_I[2], \"green\", linewidth=.5)\n",
    "\n",
    "plt.vlines(harm_P_nu2, 0, harm_Final_I[3], \"green\", linewidth=.5)\n",
    "plt.vlines(harm_Q_nu2, 0, harm_Final_I[4], \"green\", linewidth=.5)\n",
    "plt.vlines(harm_R_nu2, 0, harm_Final_I[5], \"green\", linewidth=.5)\n",
    "\n",
    "plt.vlines(harm_P_nu3, 0, harm_Final_I[6], \"green\", linewidth=.5)\n",
    "plt.vlines(harm_Q_nu3, 0, harm_Final_I[7], \"green\", linewidth=.5)\n",
    "plt.vlines(harm_R_nu3, 0, harm_Final_I[8], \"green\", linewidth=.5)\n",
    "\n",
    "plt.xlim(500, 3250)\n",
    "plt.xlabel(r\"Wavenumber (cm$^{-1}$)\", fontsize=16)\n",
    "plt.ylabel(r\"Normalized Intensity, $\\frac{N_J}{N}$\", fontsize=16)\n",
    "\n",
    "legend = plt.legend(loc = 'lower center', fontsize=16)\n",
    "for handl in legend.legendHandles:\n",
    "    handl.set_linewidth(3)\n",
    "\n",
    "plt.savefig(f\"EPI_H20_262_18MiKyZo_epi_harm_{T}K.pdf\")\n",
    "\n",
    "plt.show()"
   ]
  },
  {
   "cell_type": "code",
   "execution_count": 36,
   "metadata": {},
   "outputs": [
    {
     "data": {
      "image/png": "[encoded data removed]",
      "text/plain": [
       "<Figure size 1152x576 with 1 Axes>"
      ]
     },
     "metadata": {
      "needs_background": "light"
     },
     "output_type": "display_data"
    }
   ],
   "source": [
    "plt.figure(figsize=(16,8))\n",
    "plt.vlines(prime_freq,0, -prime_intensity, color=\"k\", label=\"HITRAN 2020\", linewidth=.5)\n",
    "\n",
    "plt.vlines(P_nu1, 0, Final_I[0], \"red\", label=\"Epimetheus (14TeBe)\", linewidth=.5)\n",
    "plt.vlines(Q_nu1, 0, Final_I[1], \"red\", linewidth=.5)\n",
    "plt.vlines(R_nu1, 0, Final_I[2], \"red\", linewidth=.5)\n",
    "\n",
    "plt.vlines(P_nu2, 0, Final_I[3], \"red\", linewidth=.5)\n",
    "plt.vlines(Q_nu2, 0, Final_I[4], \"red\", linewidth=.5)\n",
    "plt.vlines(R_nu2, 0, Final_I[5], \"red\", linewidth=.5)\n",
    "\n",
    "plt.vlines(P_nu3, 0, Final_I[6], \"red\", linewidth=.5)\n",
    "plt.vlines(Q_nu3, 0, Final_I[7], \"red\", linewidth=.5)\n",
    "plt.vlines(R_nu3, 0, Final_I[8], \"red\", linewidth=.5)\n",
    "\n",
    "\n",
    "plt.vlines(exp_P_nu1, 0, exp_Final_I[0], \"blue\",linestyle='dashed', label=\"14TeBe + 84ReWa\", linewidth=.5)\n",
    "plt.vlines(exp_Q_nu1, 0, exp_Final_I[1], \"blue\",linestyle='dashed', linewidth=.5)\n",
    "plt.vlines(exp_R_nu1, 0, exp_Final_I[2], \"blue\",linestyle='dashed', linewidth=.5)\n",
    "\n",
    "plt.vlines(exp_P_nu2, 0, exp_Final_I[3], \"blue\",linestyle='dashed', linewidth=.5)\n",
    "plt.vlines(exp_Q_nu2, 0, exp_Final_I[4], \"blue\",linestyle='dashed', linewidth=.5)\n",
    "plt.vlines(exp_R_nu2, 0, exp_Final_I[5], \"blue\",linestyle='dashed', linewidth=.5)\n",
    "\n",
    "plt.vlines(exp_P_nu3, 0, exp_Final_I[6], \"blue\",linestyle='dashed', linewidth=.5)\n",
    "plt.vlines(exp_Q_nu3, 0, exp_Final_I[7], \"blue\",linestyle='dashed', linewidth=.5)\n",
    "plt.vlines(exp_R_nu3, 0, exp_Final_I[8], \"blue\",linestyle='dashed', linewidth=.5)\n",
    "\n",
    "plt.xlim(500, 3250)\n",
    "plt.xlabel(r\"Wavenumber (cm$^{-1}$)\", fontsize=16)\n",
    "plt.ylabel(r\"Normalized Intensity, $\\frac{N_J}{N}$\", fontsize=16)\n",
    "\n",
    "legend = plt.legend(loc = 'lower center', fontsize=16)\n",
    "for handl in legend.legendHandles:\n",
    "    handl.set_linewidth(3)\n",
    "\n",
    "plt.savefig(f\"EPI_H20_262_18MiKyZo_epi_lit_{T}K.pdf\")\n",
    "\n",
    "plt.show()"
   ]
  },
  {
   "cell_type": "code",
   "execution_count": null,
   "metadata": {},
   "outputs": [],
   "source": []
  },
  {
   "cell_type": "code",
   "execution_count": null,
   "metadata": {},
   "outputs": [],
   "source": []
  }
 ],
 "metadata": {
  "kernelspec": {
   "display_name": "Python 3",
   "language": "python",
   "name": "python3"
  },
  "language_info": {
   "codemirror_mode": {
    "name": "ipython",
    "version": 3
   },
   "file_extension": ".py",
   "mimetype": "text/x-python",
   "name": "python",
   "nbconvert_exporter": "python",
   "pygments_lexer": "ipython3",
   "version": "3.8.3"
  }
 },
 "nbformat": 4,
 "nbformat_minor": 4
}
