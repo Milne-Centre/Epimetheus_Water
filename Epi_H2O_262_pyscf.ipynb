{
 "cells": [
  {
   "cell_type": "code",
   "execution_count": 1,
   "metadata": {
    "button": false,
    "new_sheet": false,
    "run_control": {
     "read_only": false
    }
   },
   "outputs": [],
   "source": [
    "#Essential Constants\n",
    "from scipy.constants import h, c, hbar, u, k\n",
    "\n",
    "#Imports from other script/s\n",
    "from ipynb.fs.full.Conversions_Epimetheus import * #Conversion Doc\n",
    "from ipynb.fs.full.Atomic_Mass_Key import element #Mass Key File\n",
    "from ipynb.fs.full.EpiPan_Functions import * #All Functions\n",
    "\n",
    "#General Imports\n",
    "import numpy as np\n",
    "import matplotlib.pyplot as plt\n",
    "import scipy.linalg as la\n",
    "import itertools\n",
    "import pandas as pd"
   ]
  },
  {
   "cell_type": "code",
   "execution_count": 2,
   "metadata": {
    "button": false,
    "new_sheet": false,
    "run_control": {
     "read_only": false
    }
   },
   "outputs": [],
   "source": [
    "#Import Desired PES\n",
    "from ipynb.fs.full.pyscf_PES import PES"
   ]
  },
  {
   "cell_type": "code",
   "execution_count": 3,
   "metadata": {
    "button": false,
    "new_sheet": false,
    "run_control": {
     "read_only": false
    }
   },
   "outputs": [],
   "source": [
    "#Import Desired Data\n",
    "prime_link = 1\n",
    "if type(prime_link) == str:\n",
    "    prime_data = pd.read_csv(prime_link, header=None, skiprows=None, sep=\",\")     \n",
    "    prime_data.to_csv(\"H2O_262_SPEC_HITRAN2020.csv\")\n",
    "    \n",
    "    prime_freq = prime_data.loc[:,0]\n",
    "    prime_freq = np.array(prime_freq)\n",
    "    \n",
    "    prime_intensity = prime_data.loc[:,1]\n",
    "    prime_intensity = np.array(prime_intensity)\n",
    "    prime_intensity = np.divide(prime_intensity, sum(prime_intensity))\n",
    "    \n",
    "elif prime_link == 1: \n",
    "    prime_data = pd.read_csv(\"H2O_262_SPEC_HITRAN2020.csv\", sep=\",\", header=None, skiprows=1)\n",
    "\n",
    "    prime_freq = prime_data.loc[:,1]\n",
    "    prime_freq = np.array(prime_freq)\n",
    "    \n",
    "    prime_intensity = prime_data.loc[:,2]\n",
    "    prime_intensity = np.array(prime_intensity)\n",
    "    prime_intensity = np.divide(prime_intensity, sum(prime_intensity))"
   ]
  },
  {
   "cell_type": "markdown",
   "metadata": {
    "button": false,
    "new_sheet": false,
    "run_control": {
     "read_only": false
    }
   },
   "source": [
    "### Manual Inputs"
   ]
  },
  {
   "cell_type": "code",
   "execution_count": 4,
   "metadata": {},
   "outputs": [],
   "source": [
    "molecule = [\"H\", \"O\", \"H\"]"
   ]
  },
  {
   "cell_type": "code",
   "execution_count": 5,
   "metadata": {
    "button": false,
    "new_sheet": false,
    "run_control": {
     "read_only": false
    }
   },
   "outputs": [],
   "source": [
    "#Temperature\n",
    "T = 300"
   ]
  },
  {
   "cell_type": "code",
   "execution_count": 6,
   "metadata": {
    "button": false,
    "new_sheet": false,
    "run_control": {
     "read_only": false
    }
   },
   "outputs": [],
   "source": [
    "#Positions/Bond Lengths/Angles\n",
    "coord = [[-7.62301958e-01,  5.21812613e-01,  2.83208380e-16],\n",
    "       [-4.00664541e-18, -6.54334852e-02, -4.72197452e-17],\n",
    "       [ 7.62301958e-01,  5.21812613e-01,  4.69918511e-16]] \n",
    "\n",
    "# coord comes from geomtry optimised coordinates (script: pyscf_PES_opttest)"
   ]
  },
  {
   "cell_type": "code",
   "execution_count": 7,
   "metadata": {
    "button": false,
    "new_sheet": false,
    "run_control": {
     "read_only": false
    }
   },
   "outputs": [],
   "source": [
    "mass = ((element[\"D\"] * u * kg_to_me), \n",
    "            (element[molecule[1]] * u * kg_to_me), \n",
    "            (element[\"D\"] * u * kg_to_me))"
   ]
  },
  {
   "cell_type": "code",
   "execution_count": 8,
   "metadata": {
    "button": false,
    "new_sheet": false,
    "run_control": {
     "read_only": false
    }
   },
   "outputs": [],
   "source": [
    "B, I, COMcoord = rot_inertia_rcom(coord, mass)"
   ]
  },
  {
   "cell_type": "markdown",
   "metadata": {
    "button": false,
    "new_sheet": false,
    "run_control": {
     "read_only": false
    }
   },
   "source": [
    "### Calculations "
   ]
  },
  {
   "cell_type": "code",
   "execution_count": 9,
   "metadata": {
    "button": false,
    "new_sheet": false,
    "run_control": {
     "read_only": false
    }
   },
   "outputs": [],
   "source": [
    "Key, Pos =  Key_and_Pos(coord)"
   ]
  },
  {
   "cell_type": "code",
   "execution_count": 10,
   "metadata": {
    "button": false,
    "new_sheet": false,
    "run_control": {
     "read_only": false
    }
   },
   "outputs": [
    {
     "name": "stderr",
     "output_type": "stream",
     "text": [
      "/Users/thomascross/opt/anaconda3/lib/python3.8/site-packages/pyscf/dft/libxc.py:771: UserWarning: Since PySCF-2.3, B3LYP (and B3P86) are changed to the VWN-RPA variant, corresponding to the original definition by Stephens et al. (issue 1480) and the same as the B3LYP functional in Gaussian. To restore the VWN5 definition, you can put the setting \"B3LYP_WITH_VWN5 = True\" in pyscf_conf.py\n",
      "  warnings.warn('Since PySCF-2.3, B3LYP (and B3P86) are changed to the VWN-RPA variant, '\n"
     ]
    },
    {
     "name": "stdout",
     "output_type": "stream",
     "text": [
      "converged SCF energy = -76.4397068771157\n"
     ]
    }
   ],
   "source": [
    "PES_func = PES(Key, Pos, molecule)"
   ]
  },
  {
   "cell_type": "code",
   "execution_count": 11,
   "metadata": {
    "button": false,
    "new_sheet": false,
    "run_control": {
     "read_only": false
    },
    "scrolled": true
   },
   "outputs": [
    {
     "data": {
      "application/vnd.jupyter.widget-view+json": {
       "model_id": "3b4dd6a0925549f59327e46628d3de30",
       "version_major": 2,
       "version_minor": 0
      },
      "text/plain": [
       "HBox(children=(FloatProgress(value=0.0, max=81.0), HTML(value='')))"
      ]
     },
     "metadata": {},
     "output_type": "display_data"
    },
    {
     "name": "stdout",
     "output_type": "stream",
     "text": [
      "converged SCF energy = -76.4396883606716\n",
      "converged SCF energy = -76.4397022258701\n",
      "converged SCF energy = -76.4397068771157\n",
      "converged SCF energy = -76.4397022168656\n",
      "converged SCF energy = -76.4396881471279\n",
      "converged SCF energy = -76.4397051553358\n",
      "converged SCF energy = -76.4396940087711\n",
      "converged SCF energy = -76.4396934315395\n",
      "converged SCF energy = -76.4397055701249\n",
      "converged SCF energy = -76.4397022125647\n",
      "converged SCF energy = -76.4397022125647\n",
      "converged SCF energy = -76.4397022326947\n",
      "converged SCF energy = -76.4397022326948\n",
      "converged SCF energy = -76.4397022258701\n",
      "converged SCF energy = -76.4396852474476\n",
      "converged SCF energy = -76.4396850564431\n",
      "converged SCF energy = -76.4397022168657\n",
      "converged SCF energy = -76.4396919799456\n",
      "converged SCF energy = -76.4397012317437\n",
      "converged SCF energy = -76.4397020361654\n",
      "converged SCF energy = -76.4396910177067\n",
      "converged SCF energy = -76.4397022173278\n",
      "converged SCF energy = -76.4397022173278\n",
      "converged SCF energy = -76.4397022310186\n",
      "converged SCF energy = -76.4397022310187\n",
      "converged SCF energy = -76.4396983425027\n",
      "converged SCF energy = -76.4396968044927\n",
      "converged SCF energy = -76.4396967729492\n",
      "converged SCF energy = -76.4396983425028\n",
      "converged SCF energy = -76.4396985978984\n",
      "converged SCF energy = -76.4397004911472\n",
      "converged SCF energy = -76.4397000998646\n",
      "converged SCF energy = -76.4396989781689\n",
      "converged SCF energy = -76.4397022271821\n",
      "converged SCF energy = -76.4397022271821\n",
      "converged SCF energy = -76.4397022178304\n",
      "converged SCF energy = -76.4397022178304\n",
      "converged SCF energy = -76.4397051553358\n",
      "converged SCF energy = -76.4396934315395\n",
      "converged SCF energy = -76.4396940087711\n",
      "converged SCF energy = -76.4397055701249\n",
      "converged SCF energy = -76.439695752797\n",
      "converged SCF energy = -76.4397040036745\n",
      "converged SCF energy = -76.4397068771157\n",
      "converged SCF energy = -76.4397043913476\n",
      "converged SCF energy = -76.4396965651041\n",
      "converged SCF energy = -76.4397040160022\n",
      "converged SCF energy = -76.439704016002\n",
      "converged SCF energy = -76.4397043814203\n",
      "converged SCF energy = -76.4397043814204\n",
      "converged SCF energy = -76.4396888002525\n",
      "converged SCF energy = -76.4397020260166\n",
      "converged SCF energy = -76.4397024491634\n",
      "converged SCF energy = -76.4396893748294\n",
      "converged SCF energy = -76.4397043913476\n",
      "converged SCF energy = -76.4396922861512\n",
      "converged SCF energy = -76.4396934907587\n",
      "converged SCF energy = -76.4397040036747\n",
      "converged SCF energy = -76.439704019216\n",
      "converged SCF energy = -76.4397040192159\n",
      "converged SCF energy = -76.4397043813297\n",
      "converged SCF energy = -76.4397043813298\n",
      "converged SCF energy = -76.4397000998646\n",
      "converged SCF energy = -76.4396985978982\n",
      "converged SCF energy = -76.4396989781688\n",
      "converged SCF energy = -76.4397004911472\n",
      "converged SCF energy = -76.4397008340096\n",
      "converged SCF energy = -76.4397018133596\n",
      "converged SCF energy = -76.4397018133597\n",
      "converged SCF energy = -76.4397016108984\n",
      "converged SCF energy = -76.4397040044878\n",
      "converged SCF energy = -76.4397040044878\n",
      "converged SCF energy = -76.4397043928048\n",
      "converged SCF energy = -76.4397043928047\n",
      "converged SCF energy = -76.4397022125647\n",
      "converged SCF energy = -76.4397022326947\n",
      "converged SCF energy = -76.4397022125647\n",
      "converged SCF energy = -76.4397022326948\n",
      "converged SCF energy = -76.4397040160022\n",
      "converged SCF energy = -76.4397043814203\n",
      "converged SCF energy = -76.439704016002\n",
      "converged SCF energy = -76.4397043814204\n",
      "converged SCF energy = -76.4397068814959\n",
      "converged SCF energy = -76.4397068782492\n",
      "converged SCF energy = -76.4397068771157\n",
      "converged SCF energy = -76.4397068782494\n",
      "converged SCF energy = -76.439706881496\n",
      "converged SCF energy = -76.4396983585046\n",
      "converged SCF energy = -76.4396983290226\n",
      "converged SCF energy = -76.4396983585044\n",
      "converged SCF energy = -76.4396983290227\n",
      "converged SCF energy = -76.4397016012971\n",
      "converged SCF energy = -76.4397008460191\n",
      "converged SCF energy = -76.4397016012972\n",
      "converged SCF energy = -76.4397008460191\n",
      "converged SCF energy = -76.4397068782493\n",
      "converged SCF energy = -76.4397068834604\n",
      "converged SCF energy = -76.4397068834605\n",
      "converged SCF energy = -76.4397068782494\n",
      "converged SCF energy = -76.4397022178303\n",
      "converged SCF energy = -76.4397022271818\n",
      "converged SCF energy = -76.4397022178303\n",
      "converged SCF energy = -76.439702227182\n",
      "converged SCF energy = -76.4397040044879\n",
      "converged SCF energy = -76.4397043928047\n",
      "converged SCF energy = -76.4397040044879\n",
      "converged SCF energy = -76.4397043928047\n",
      "converged SCF energy = -76.4397068798016\n",
      "converged SCF energy = -76.4397068789568\n",
      "converged SCF energy = -76.4397068789567\n",
      "converged SCF energy = -76.4397068798015\n",
      "converged SCF energy = -76.4397022258701\n",
      "converged SCF energy = -76.4396850564431\n",
      "converged SCF energy = -76.4396852474476\n",
      "converged SCF energy = -76.4397022168657\n",
      "converged SCF energy = -76.4396888002525\n",
      "converged SCF energy = -76.4397024491634\n",
      "converged SCF energy = -76.4397020260166\n",
      "converged SCF energy = -76.4396893748294\n",
      "converged SCF energy = -76.4396983585046\n",
      "converged SCF energy = -76.4396983585044\n",
      "converged SCF energy = -76.4396983290226\n",
      "converged SCF energy = -76.4396983290227\n",
      "converged SCF energy = -76.4396727382906\n",
      "converged SCF energy = -76.4396983425028\n",
      "converged SCF energy = -76.4397068771157\n",
      "converged SCF energy = -76.4396983425027\n",
      "converged SCF energy = -76.4396727382903\n",
      "converged SCF energy = -76.4396931868061\n",
      "converged SCF energy = -76.4396921875393\n",
      "converged SCF energy = -76.439693186806\n",
      "converged SCF energy = -76.4396921875393\n",
      "converged SCF energy = -76.4396983454377\n",
      "converged SCF energy = -76.4396983454377\n",
      "converged SCF energy = -76.4396983454378\n",
      "converged SCF energy = -76.439698345438\n",
      "converged SCF energy = -76.4397022168655\n",
      "converged SCF energy = -76.4396852474478\n",
      "converged SCF energy = -76.4396850564433\n",
      "converged SCF energy = -76.43970222587\n",
      "converged SCF energy = -76.4397020260167\n",
      "converged SCF energy = -76.4396893748295\n",
      "converged SCF energy = -76.4396888002526\n",
      "converged SCF energy = -76.4397024491632\n",
      "converged SCF energy = -76.4396983290227\n",
      "converged SCF energy = -76.4396983290227\n",
      "converged SCF energy = -76.4396983585045\n",
      "converged SCF energy = -76.4396983585046\n",
      "converged SCF energy = -76.4396919799456\n",
      "converged SCF energy = -76.4397020361654\n",
      "converged SCF energy = -76.4397012317437\n",
      "converged SCF energy = -76.4396910177067\n",
      "converged SCF energy = -76.4397043913476\n",
      "converged SCF energy = -76.4396934907587\n",
      "converged SCF energy = -76.4396922861512\n",
      "converged SCF energy = -76.4397040036747\n",
      "converged SCF energy = -76.4397016012971\n",
      "converged SCF energy = -76.4397016012972\n",
      "converged SCF energy = -76.4397008460191\n",
      "converged SCF energy = -76.4397008460191\n",
      "converged SCF energy = -76.4396931868061\n",
      "converged SCF energy = -76.439693186806\n",
      "converged SCF energy = -76.4396921875393\n",
      "converged SCF energy = -76.4396921875393\n",
      "converged SCF energy = -76.4396850775101\n",
      "converged SCF energy = -76.4397016108985\n",
      "converged SCF energy = -76.4397068771157\n",
      "converged SCF energy = -76.4397008340096\n",
      "converged SCF energy = -76.4396834405551\n",
      "converged SCF energy = -76.4397015881864\n",
      "converged SCF energy = -76.4397015881864\n",
      "converged SCF energy = -76.4397008624158\n",
      "converged SCF energy = -76.4397008624157\n",
      "converged SCF energy = -76.4397020361655\n",
      "converged SCF energy = -76.4396919799456\n",
      "converged SCF energy = -76.4396910177066\n",
      "converged SCF energy = -76.4397012317438\n",
      "converged SCF energy = -76.4397043913478\n",
      "converged SCF energy = -76.4396934907587\n",
      "converged SCF energy = -76.4396922861512\n",
      "converged SCF energy = -76.4397040036746\n",
      "converged SCF energy = -76.4397016012972\n",
      "converged SCF energy = -76.4397016012975\n",
      "converged SCF energy = -76.439700846019\n",
      "converged SCF energy = -76.4397008460191\n",
      "converged SCF energy = -76.4397022173278\n",
      "converged SCF energy = -76.4397022310186\n",
      "converged SCF energy = -76.4397022173278\n",
      "converged SCF energy = -76.4397022310187\n",
      "converged SCF energy = -76.439704019216\n",
      "converged SCF energy = -76.4397043813297\n",
      "converged SCF energy = -76.4397040192159\n",
      "converged SCF energy = -76.4397043813298\n",
      "converged SCF energy = -76.4397068782493\n",
      "converged SCF energy = -76.4397068834605\n",
      "converged SCF energy = -76.4397068834604\n",
      "converged SCF energy = -76.4397068782494\n",
      "converged SCF energy = -76.4396983454377\n",
      "converged SCF energy = -76.4396983454378\n",
      "converged SCF energy = -76.4396983454377\n",
      "converged SCF energy = -76.439698345438\n"
     ]
    },
    {
     "name": "stdout",
     "output_type": "stream",
     "text": [
      "converged SCF energy = -76.4397015881864\n",
      "converged SCF energy = -76.4397008624158\n",
      "converged SCF energy = -76.4397015881864\n",
      "converged SCF energy = -76.4397008624157\n",
      "converged SCF energy = -76.4397068875071\n",
      "converged SCF energy = -76.4397068798015\n",
      "converged SCF energy = -76.4397068771157\n",
      "converged SCF energy = -76.4397068798016\n",
      "converged SCF energy = -76.4397068875073\n",
      "converged SCF energy = -76.4397022310185\n",
      "converged SCF energy = -76.4397022173276\n",
      "converged SCF energy = -76.4397022310186\n",
      "converged SCF energy = -76.4397022173278\n",
      "converged SCF energy = -76.439704019216\n",
      "converged SCF energy = -76.4397043813298\n",
      "converged SCF energy = -76.439704019216\n",
      "converged SCF energy = -76.4397043813298\n",
      "converged SCF energy = -76.4397068782494\n",
      "converged SCF energy = -76.4397068834604\n",
      "converged SCF energy = -76.4397068834605\n",
      "converged SCF energy = -76.4397068782493\n",
      "converged SCF energy = -76.4396983425027\n",
      "converged SCF energy = -76.4396967729492\n",
      "converged SCF energy = -76.4396968044927\n",
      "converged SCF energy = -76.4396983425028\n",
      "converged SCF energy = -76.4397000998646\n",
      "converged SCF energy = -76.4396989781688\n",
      "converged SCF energy = -76.4396985978982\n",
      "converged SCF energy = -76.4397004911472\n",
      "converged SCF energy = -76.4397022178303\n",
      "converged SCF energy = -76.4397022178303\n",
      "converged SCF energy = -76.4397022271818\n",
      "converged SCF energy = -76.439702227182\n",
      "converged SCF energy = -76.4397022168655\n",
      "converged SCF energy = -76.4396850564433\n",
      "converged SCF energy = -76.4396852474478\n",
      "converged SCF energy = -76.43970222587\n",
      "converged SCF energy = -76.4397020361655\n",
      "converged SCF energy = -76.4396910177066\n",
      "converged SCF energy = -76.4396919799456\n",
      "converged SCF energy = -76.4397012317438\n",
      "converged SCF energy = -76.4397022310185\n",
      "converged SCF energy = -76.4397022310186\n",
      "converged SCF energy = -76.4397022173276\n",
      "converged SCF energy = -76.4397022173278\n",
      "converged SCF energy = -76.4396881471278\n",
      "converged SCF energy = -76.4397022168656\n",
      "converged SCF energy = -76.4397068771157\n",
      "converged SCF energy = -76.4397022258701\n",
      "converged SCF energy = -76.4396883606718\n",
      "converged SCF energy = -76.4396934315397\n",
      "converged SCF energy = -76.439705570125\n",
      "converged SCF energy = -76.4397051553359\n",
      "converged SCF energy = -76.4396940087712\n",
      "converged SCF energy = -76.4397022326948\n",
      "converged SCF energy = -76.439702232695\n",
      "converged SCF energy = -76.4397022125647\n",
      "converged SCF energy = -76.4397022125647\n",
      "converged SCF energy = -76.4396985978984\n",
      "converged SCF energy = -76.4397000998646\n",
      "converged SCF energy = -76.4397004911472\n",
      "converged SCF energy = -76.4396989781689\n",
      "converged SCF energy = -76.4397008340096\n",
      "converged SCF energy = -76.4397018133597\n",
      "converged SCF energy = -76.4397018133596\n",
      "converged SCF energy = -76.4397016108984\n",
      "converged SCF energy = -76.4397040044879\n",
      "converged SCF energy = -76.4397040044879\n",
      "converged SCF energy = -76.4397043928047\n",
      "converged SCF energy = -76.4397043928047\n",
      "converged SCF energy = -76.4397020260167\n",
      "converged SCF energy = -76.4396888002526\n",
      "converged SCF energy = -76.4396893748295\n",
      "converged SCF energy = -76.4397024491632\n",
      "converged SCF energy = -76.4397043913478\n",
      "converged SCF energy = -76.4396922861512\n",
      "converged SCF energy = -76.4396934907587\n",
      "converged SCF energy = -76.4397040036746\n",
      "converged SCF energy = -76.439704019216\n",
      "converged SCF energy = -76.439704019216\n",
      "converged SCF energy = -76.4397043813298\n",
      "converged SCF energy = -76.4397043813298\n",
      "converged SCF energy = -76.4396934315397\n",
      "converged SCF energy = -76.4397051553359\n",
      "converged SCF energy = -76.439705570125\n",
      "converged SCF energy = -76.4396940087712\n",
      "converged SCF energy = -76.439695752797\n",
      "converged SCF energy = -76.4397040036746\n",
      "converged SCF energy = -76.4397068771157\n",
      "converged SCF energy = -76.4397043913476\n",
      "converged SCF energy = -76.439696565104\n",
      "converged SCF energy = -76.4397040160023\n",
      "converged SCF energy = -76.4397040160022\n",
      "converged SCF energy = -76.4397043814202\n",
      "converged SCF energy = -76.4397043814204\n",
      "converged SCF energy = -76.4397022271821\n",
      "converged SCF energy = -76.4397022178304\n",
      "converged SCF energy = -76.4397022271821\n",
      "converged SCF energy = -76.4397022178304\n",
      "converged SCF energy = -76.4397040044878\n",
      "converged SCF energy = -76.4397043928048\n",
      "converged SCF energy = -76.4397040044878\n",
      "converged SCF energy = -76.4397043928047\n",
      "converged SCF energy = -76.4397068798016\n",
      "converged SCF energy = -76.4397068789567\n",
      "converged SCF energy = -76.4397068789568\n",
      "converged SCF energy = -76.4397068798015\n",
      "converged SCF energy = -76.4396983290227\n",
      "converged SCF energy = -76.4396983585045\n",
      "converged SCF energy = -76.4396983290227\n",
      "converged SCF energy = -76.4396983585046\n",
      "converged SCF energy = -76.4397016012972\n",
      "converged SCF energy = -76.439700846019\n",
      "converged SCF energy = -76.4397016012975\n",
      "converged SCF energy = -76.4397008460191\n",
      "converged SCF energy = -76.4397068782494\n",
      "converged SCF energy = -76.4397068834605\n",
      "converged SCF energy = -76.4397068834604\n",
      "converged SCF energy = -76.4397068782493\n",
      "converged SCF energy = -76.4397022326948\n",
      "converged SCF energy = -76.4397022125647\n",
      "converged SCF energy = -76.439702232695\n",
      "converged SCF energy = -76.4397022125647\n",
      "converged SCF energy = -76.4397040160023\n",
      "converged SCF energy = -76.4397043814202\n",
      "converged SCF energy = -76.4397040160022\n",
      "converged SCF energy = -76.4397043814204\n",
      "converged SCF energy = -76.4397068814961\n",
      "converged SCF energy = -76.4397068782493\n",
      "converged SCF energy = -76.4397068771157\n",
      "converged SCF energy = -76.4397068782494\n",
      "converged SCF energy = -76.4397068814959\n",
      "\n"
     ]
    }
   ],
   "source": [
    "Hess = Hess_CART(Key, Pos, PES, molecule)"
   ]
  },
  {
   "cell_type": "code",
   "execution_count": 12,
   "metadata": {
    "button": false,
    "new_sheet": false,
    "run_control": {
     "read_only": false
    }
   },
   "outputs": [],
   "source": [
    "Hess_MWC_fin = Hess_MWC(Hess, Key, mass)"
   ]
  },
  {
   "cell_type": "code",
   "execution_count": 13,
   "metadata": {
    "button": false,
    "new_sheet": false,
    "run_control": {
     "read_only": false
    },
    "scrolled": true
   },
   "outputs": [
    {
     "name": "stdout",
     "output_type": "stream",
     "text": [
      "Fundamental frequencies [cm]^-1 =\n",
      "[2874.86912357 2753.74083481 1194.17573414   31.33199518   41.9627843 ]\n"
     ]
    }
   ],
   "source": [
    "eigvals, eigvecs, Hess_diag_au, Hess_diag_wn, fundamentals_au, fundamentals_wn = eigval_eigvec(Hess_MWC_fin)"
   ]
  },
  {
   "cell_type": "code",
   "execution_count": 14,
   "metadata": {
    "button": false,
    "new_sheet": false,
    "run_control": {
     "read_only": false
    }
   },
   "outputs": [],
   "source": [
    "eigvecs_UMW = UMW(eigvecs, mass, Key)"
   ]
  },
  {
   "cell_type": "code",
   "execution_count": 15,
   "metadata": {
    "button": false,
    "new_sheet": false,
    "run_control": {
     "read_only": false
    }
   },
   "outputs": [],
   "source": [
    "displace_vec, displace_val= displace_vec_and_val(eigvals, eigvecs_UMW)"
   ]
  },
  {
   "cell_type": "code",
   "execution_count": 16,
   "metadata": {
    "button": false,
    "new_sheet": false,
    "run_control": {
     "read_only": false
    },
    "scrolled": true
   },
   "outputs": [
    {
     "data": {
      "application/vnd.jupyter.widget-view+json": {
       "model_id": "d12281f333c540d9b58be2c99cebd88b",
       "version_major": 2,
       "version_minor": 0
      },
      "text/plain": [
       "HBox(children=(FloatProgress(value=0.0, max=9.0), HTML(value='')))"
      ]
     },
     "metadata": {},
     "output_type": "display_data"
    },
    {
     "name": "stdout",
     "output_type": "stream",
     "text": [
      "converged SCF energy = -76.4122951555642\n",
      "converged SCF energy = -76.4330827754559\n",
      "converged SCF energy = -76.4330827753099\n",
      "converged SCF energy = -76.4122951543185\n",
      "converged SCF energy = -76.4228288067572\n",
      "converged SCF energy = -76.4297324559112\n",
      "converged SCF energy = -76.4325256607696\n",
      "converged SCF energy = -76.4341962024018\n",
      "converged SCF energy = -76.4228288068316\n",
      "converged SCF energy = -76.4297324558611\n",
      "converged SCF energy = -76.4308388641489\n",
      "converged SCF energy = -76.4303321568545\n",
      "converged SCF energy = -76.4368753273712\n",
      "converged SCF energy = -76.4371052478251\n",
      "converged SCF energy = -76.4308388638967\n",
      "converged SCF energy = -76.4303321569365\n",
      "converged SCF energy = -76.4228288067572\n",
      "converged SCF energy = -76.4228288068316\n",
      "converged SCF energy = -76.4330827754559\n",
      "converged SCF energy = -76.4330827753099\n",
      "converged SCF energy = -76.4297324559112\n",
      "converged SCF energy = -76.4297324558611\n",
      "converged SCF energy = -76.4066531529484\n",
      "converged SCF energy = -76.4325256607696\n",
      "converged SCF energy = -76.4341962024018\n",
      "converged SCF energy = -76.4202183029794\n",
      "converged SCF energy = -76.4303365887865\n",
      "converged SCF energy = -76.43068214106\n",
      "converged SCF energy = -76.4368753273712\n",
      "converged SCF energy = -76.4371052478251\n",
      "converged SCF energy = -76.4310941239255\n",
      "converged SCF energy = -76.4312282202101\n",
      "converged SCF energy = -76.4308388641489\n",
      "converged SCF energy = -76.4308388638967\n",
      "converged SCF energy = -76.4330827754559\n",
      "converged SCF energy = -76.4330827753099\n",
      "converged SCF energy = -76.4303321568545\n",
      "converged SCF energy = -76.4303321569365\n",
      "converged SCF energy = -76.4303365887865\n",
      "converged SCF energy = -76.4310941239255\n",
      "converged SCF energy = -76.4325256607696\n",
      "converged SCF energy = -76.4341962024018\n",
      "converged SCF energy = -76.43068214106\n",
      "converged SCF energy = -76.4312282202101\n",
      "converged SCF energy = -76.4279657832973\n",
      "converged SCF energy = -76.4368753273712\n",
      "converged SCF energy = -76.4371052478251\n",
      "converged SCF energy = -76.4298197972645\n",
      "\n"
     ]
    }
   ],
   "source": [
    "cubic = cubic_CART(Key, Pos, displace_vec, displace_val, PES, molecule)"
   ]
  },
  {
   "cell_type": "code",
   "execution_count": 17,
   "metadata": {
    "button": false,
    "new_sheet": false,
    "run_control": {
     "read_only": false
    },
    "scrolled": true
   },
   "outputs": [
    {
     "data": {
      "application/vnd.jupyter.widget-view+json": {
       "model_id": "f957c1ba076d477bbd75cc863a141f5d",
       "version_major": 2,
       "version_minor": 0
      },
      "text/plain": [
       "HBox(children=(FloatProgress(value=0.0, max=9.0), HTML(value='')))"
      ]
     },
     "metadata": {},
     "output_type": "display_data"
    },
    {
     "name": "stdout",
     "output_type": "stream",
     "text": [
      "converged SCF energy = -76.4122951555642\n",
      "converged SCF energy = -76.4330827754559\n",
      "converged SCF energy = -76.4397068771157\n",
      "converged SCF energy = -76.4330827753099\n",
      "converged SCF energy = -76.4122951543185\n",
      "converged SCF energy = -76.4228288067572\n",
      "converged SCF energy = -76.4330827754559\n",
      "converged SCF energy = -76.4297324559112\n",
      "converged SCF energy = -76.4325256607696\n",
      "converged SCF energy = -76.4397068771157\n",
      "converged SCF energy = -76.4341962024018\n",
      "converged SCF energy = -76.4228288068316\n",
      "converged SCF energy = -76.4330827753099\n",
      "converged SCF energy = -76.4297324558611\n",
      "converged SCF energy = -76.4308388641489\n",
      "converged SCF energy = -76.4330827754559\n",
      "converged SCF energy = -76.4303321568545\n",
      "converged SCF energy = -76.4368753273712\n",
      "converged SCF energy = -76.4397068771157\n",
      "converged SCF energy = -76.4371052478251\n",
      "converged SCF energy = -76.4308388638967\n",
      "converged SCF energy = -76.4330827753099\n",
      "converged SCF energy = -76.4303321569365\n",
      "converged SCF energy = -76.4228288067572\n",
      "converged SCF energy = -76.4325256607696\n",
      "converged SCF energy = -76.4228288068316\n",
      "converged SCF energy = -76.4330827754559\n",
      "converged SCF energy = -76.4397068771157\n",
      "converged SCF energy = -76.4330827753099\n",
      "converged SCF energy = -76.4297324559112\n",
      "converged SCF energy = -76.4341962024018\n",
      "converged SCF energy = -76.4297324558611\n",
      "converged SCF energy = -76.4066531529484\n",
      "converged SCF energy = -76.4325256607696\n",
      "converged SCF energy = -76.4397068771157\n",
      "converged SCF energy = -76.4341962024018\n",
      "converged SCF energy = -76.4202183029794\n",
      "converged SCF energy = -76.4303365887865\n",
      "converged SCF energy = -76.4325256607696\n",
      "converged SCF energy = -76.43068214106\n",
      "converged SCF energy = -76.4368753273712\n",
      "converged SCF energy = -76.4397068771157\n",
      "converged SCF energy = -76.4371052478251\n",
      "converged SCF energy = -76.4310941239255\n",
      "converged SCF energy = -76.4341962024018\n",
      "converged SCF energy = -76.4312282202101\n",
      "converged SCF energy = -76.4308388641489\n",
      "converged SCF energy = -76.4368753273712\n",
      "converged SCF energy = -76.4308388638967\n",
      "converged SCF energy = -76.4330827754559\n",
      "converged SCF energy = -76.4397068771157\n",
      "converged SCF energy = -76.4330827753099\n",
      "converged SCF energy = -76.4303321568545\n",
      "converged SCF energy = -76.4371052478251\n",
      "converged SCF energy = -76.4303321569365\n",
      "converged SCF energy = -76.4303365887865\n",
      "converged SCF energy = -76.4368753273712\n",
      "converged SCF energy = -76.4310941239255\n",
      "converged SCF energy = -76.4325256607696\n",
      "converged SCF energy = -76.4397068771157\n",
      "converged SCF energy = -76.4341962024018\n",
      "converged SCF energy = -76.43068214106\n",
      "converged SCF energy = -76.4371052478251\n",
      "converged SCF energy = -76.4312282202101\n",
      "converged SCF energy = -76.4279657832973\n",
      "converged SCF energy = -76.4368753273712\n",
      "converged SCF energy = -76.4397068771157\n",
      "converged SCF energy = -76.4371052478251\n",
      "converged SCF energy = -76.4298197972645\n",
      "\n"
     ]
    }
   ],
   "source": [
    "quartic = quartic_CART(Key, Pos, displace_vec, displace_val, PES, molecule)"
   ]
  },
  {
   "cell_type": "code",
   "execution_count": 18,
   "metadata": {
    "button": false,
    "new_sheet": false,
    "run_control": {
     "read_only": false
    },
    "scrolled": true
   },
   "outputs": [
    {
     "data": {
      "application/vnd.jupyter.widget-view+json": {
       "model_id": "a08a00b70af5402499dad4307002e61c",
       "version_major": 2,
       "version_minor": 0
      },
      "text/plain": [
       "HBox(children=(FloatProgress(value=0.0, max=9.0), HTML(value='')))"
      ]
     },
     "metadata": {},
     "output_type": "display_data"
    },
    {
     "name": "stdout",
     "output_type": "stream",
     "text": [
      "\n"
     ]
    }
   ],
   "source": [
    "sigma = sigma_ij(displace_val, cubic)"
   ]
  },
  {
   "cell_type": "code",
   "execution_count": 19,
   "metadata": {
    "button": false,
    "new_sheet": false,
    "run_control": {
     "read_only": false
    },
    "scrolled": false
   },
   "outputs": [
    {
     "name": "stdout",
     "output_type": "stream",
     "text": [
      "Corrected modes = [2772.20444775] vs Harm. = 2874.870052252362\n",
      "Corrected modes = [2695.47023549] vs Harm. = 2753.7417243621817\n",
      "Corrected modes = [1161.04441467] vs Harm. = 1194.1761199034315\n"
     ]
    }
   ],
   "source": [
    "deltaETOSH = deltaETOSH_ij(displace_val, cubic, quartic, sigma)"
   ]
  },
  {
   "cell_type": "code",
   "execution_count": 20,
   "metadata": {
    "button": false,
    "new_sheet": false,
    "run_control": {
     "read_only": false
    },
    "scrolled": true
   },
   "outputs": [],
   "source": [
    "allrot = all_rot_const(displace_vec, sigma, coord, mass, bohr_to_angstrom)"
   ]
  },
  {
   "cell_type": "code",
   "execution_count": null,
   "metadata": {},
   "outputs": [],
   "source": [
    "key_data = data_file_maker_triatomic(fundamentals_wn, deltaETOSH, B, allrot, \"H20_262_pyscf\")"
   ]
  },
  {
   "cell_type": "code",
   "execution_count": 21,
   "metadata": {
    "button": false,
    "new_sheet": false,
    "run_control": {
     "read_only": false
    }
   },
   "outputs": [],
   "source": [
    "J_max_arr, A_rot, B_rot, C_rot = J_max_func(B, T)"
   ]
  },
  {
   "cell_type": "code",
   "execution_count": 22,
   "metadata": {
    "scrolled": false
   },
   "outputs": [],
   "source": [
    "P_nu1, P_rot_nu1, P_index_nu1 = asytop_v_P(\"H2O\", J_max_arr, \"B\", deltaETOSH[1] , A_rot, allrot[1][0], B_rot, allrot[1][1], C_rot, allrot[1][2])\n",
    "\n",
    "Q_nu1, Q_rot_nu1, Q_index_nu1 = asytop_v_Q(\"H2O\", J_max_arr, \"B\", deltaETOSH[1] , A_rot, allrot[1][0], B_rot, allrot[1][1], C_rot, allrot[1][2])\n",
    "\n",
    "R_nu1, R_rot_nu1, R_index_nu1 = asytop_v_R(\"H2O\", J_max_arr, \"B\", deltaETOSH[1] , A_rot, allrot[1][0], B_rot, allrot[1][1], C_rot, allrot[1][2])\n",
    "##"
   ]
  },
  {
   "cell_type": "code",
   "execution_count": 23,
   "metadata": {},
   "outputs": [],
   "source": [
    "P_nu2, P_rot_nu2, P_index_nu2 = asytop_v_P(\"H2O\", J_max_arr, \"B\", deltaETOSH[2] , A_rot, allrot[2][0], B_rot, allrot[2][1], C_rot, allrot[2][2])\n",
    "\n",
    "Q_nu2, Q_rot_nu2, Q_index_nu2 = asytop_v_Q(\"H2O\", J_max_arr, \"B\", deltaETOSH[2] , A_rot, allrot[2][0], B_rot, allrot[2][1], C_rot, allrot[2][2])\n",
    "\n",
    "R_nu2, R_rot_nu2, R_index_nu2 = asytop_v_R(\"H2O\", J_max_arr, \"B\", deltaETOSH[2] , A_rot, allrot[2][0], B_rot, allrot[2][1], C_rot, allrot[2][2])\n",
    "##"
   ]
  },
  {
   "cell_type": "code",
   "execution_count": 24,
   "metadata": {},
   "outputs": [],
   "source": [
    "P_nu3, P_rot_nu3, P_index_nu3 = asytop_v_P(\"H2O\", J_max_arr, \"A\", deltaETOSH[0] , A_rot, allrot[0][0], B_rot, allrot[0][1], C_rot, allrot[0][2])\n",
    "\n",
    "Q_nu3, Q_rot_nu3, Q_index_nu3 = asytop_v_Q(\"H2O\", J_max_arr, \"A\", deltaETOSH[0] , A_rot, allrot[0][0], B_rot, allrot[0][1], C_rot, allrot[0][2])\n",
    "\n",
    "R_nu3, R_rot_nu3, R_index_nu3 = asytop_v_R(\"H2O\", J_max_arr, \"A\", deltaETOSH[0] , A_rot, allrot[0][0], B_rot, allrot[0][1], C_rot, allrot[0][2])\n",
    "##"
   ]
  },
  {
   "cell_type": "code",
   "execution_count": 25,
   "metadata": {
    "button": false,
    "new_sheet": false,
    "run_control": {
     "read_only": false
    }
   },
   "outputs": [
    {
     "name": "stderr",
     "output_type": "stream",
     "text": [
      "/Users/thomascross/Documents/PhD/Codes/Epimetheus/H2O/EpiPan_Functions.ipynb:2422: VisibleDeprecationWarning: Creating an ndarray from ragged nested sequences (which is a list-or-tuple of lists-or-tuples-or ndarrays with different lengths or shapes) is deprecated. If you meant to do this, you must specify 'dtype=object' when creating the ndarray.\n",
      "  \"source\": [\n"
     ]
    }
   ],
   "source": [
    "nu1_I = Norm_I(P_rot_nu1, P_index_nu1, Q_rot_nu1, Q_index_nu1, R_rot_nu1, R_index_nu1, T, 1, 0.0051)\n",
    "##"
   ]
  },
  {
   "cell_type": "code",
   "execution_count": 26,
   "metadata": {
    "button": false,
    "new_sheet": false,
    "run_control": {
     "read_only": false
    }
   },
   "outputs": [],
   "source": [
    "nu2_I = Norm_I(P_rot_nu2, P_index_nu2, Q_rot_nu2, Q_index_nu2, R_rot_nu2, R_index_nu2, T, 1, 0.0317)\n",
    "##"
   ]
  },
  {
   "cell_type": "code",
   "execution_count": 27,
   "metadata": {
    "button": false,
    "new_sheet": false,
    "run_control": {
     "read_only": false
    }
   },
   "outputs": [],
   "source": [
    "nu3_I = Norm_I(P_rot_nu3, P_index_nu3, Q_rot_nu3, Q_index_nu3, R_rot_nu3, R_index_nu3, T, 1, 0.0225)\n",
    "##"
   ]
  },
  {
   "cell_type": "code",
   "execution_count": 28,
   "metadata": {
    "button": false,
    "new_sheet": false,
    "run_control": {
     "read_only": false
    }
   },
   "outputs": [
    {
     "name": "stderr",
     "output_type": "stream",
     "text": [
      "/Users/thomascross/Documents/PhD/Codes/Epimetheus/H2O/EpiPan_Functions.ipynb:2460: VisibleDeprecationWarning: Creating an ndarray from ragged nested sequences (which is a list-or-tuple of lists-or-tuples-or ndarrays with different lengths or shapes) is deprecated. If you meant to do this, you must specify 'dtype=object' when creating the ndarray.\n",
      "  \"                potential_trans = trans(molecule, i+2, j, i, typing)\\n\",\n"
     ]
    }
   ],
   "source": [
    "Final_I = Fin_I(nu1_I[0], nu1_I[1],nu1_I[2], nu2_I[0], nu2_I[1], nu2_I[2], nu3_I[0], nu3_I[1], nu3_I[2])\n",
    "##"
   ]
  },
  {
   "cell_type": "code",
   "execution_count": 29,
   "metadata": {},
   "outputs": [],
   "source": [
    "# Frequencies from: 14TeBeBr\n",
    "# Rotational Constants from: 84ReWaXX\n",
    "\n",
    "exp_B = (15.26, 7.30, 4.94)\n",
    "exp_J_max_arr, exp_A_rot, exp_B_rot, exp_C_rot = J_max_func(exp_B, T)\n",
    "\n",
    "mode_100 = 2671.645857\n",
    "A_mode_100 = 15.73\n",
    "B_mode_100 = 7.05\n",
    "C_mode_100 = 4.79\n",
    "\n",
    "exp_P_nu1, exp_P_rot_nu1, exp_P_index_nu1 = asytop_v_P(\"H2O\", exp_J_max_arr, \"B\", mode_100 , exp_A_rot, A_mode_100, exp_B_rot, B_mode_100, exp_C_rot, C_mode_100)\n",
    "exp_Q_nu1, exp_Q_rot_nu1, exp_Q_index_nu1 = asytop_v_Q(\"H2O\", exp_J_max_arr, \"B\", mode_100 , exp_A_rot, A_mode_100, exp_B_rot, B_mode_100, exp_C_rot, C_mode_100)\n",
    "exp_R_nu1, exp_R_rot_nu1, exp_R_index_nu1 = asytop_v_R(\"H2O\", exp_J_max_arr, \"B\", mode_100 , exp_A_rot, A_mode_100, exp_B_rot, B_mode_100, exp_C_rot, C_mode_100)\n",
    "\n",
    "mode_010 = 1178.378792\n",
    "A_mode_010 = 17.47\n",
    "B_mode_010 = 7.05\n",
    "C_mode_010 = 4.83\n",
    "\n",
    "exp_P_nu2, exp_P_rot_nu2, exp_P_index_nu2 = asytop_v_P(\"H2O\", exp_J_max_arr, \"B\", mode_010 , exp_A_rot, A_mode_010, exp_B_rot, B_mode_010, exp_C_rot, C_mode_010)\n",
    "exp_Q_nu2, exp_Q_rot_nu2, exp_Q_index_nu2 = asytop_v_Q(\"H2O\", exp_J_max_arr, \"B\", mode_010 , exp_A_rot, A_mode_010, exp_B_rot, B_mode_010, exp_C_rot, C_mode_010)\n",
    "exp_R_nu2, exp_R_rot_nu2, exp_R_index_nu2 = asytop_v_R(\"H2O\", exp_J_max_arr, \"B\", mode_010 , exp_A_rot, A_mode_010, exp_B_rot, B_mode_010, exp_C_rot, C_mode_010)\n",
    "\n",
    "mode_001 = 2787.717995\n",
    "A_mode_001 = 15.63 \n",
    "B_mode_001 = 7.02\n",
    "C_mode_001 = 4.74\n",
    "\n",
    "exp_P_nu3, exp_P_rot_nu3, exp_P_index_nu3 = asytop_v_P(\"H2O\", exp_J_max_arr, \"A\", mode_001 , exp_A_rot, A_mode_001, exp_B_rot, B_mode_001, exp_C_rot, C_mode_001)\n",
    "exp_Q_nu3, exp_Q_rot_nu3, exp_Q_index_nu3 = asytop_v_Q(\"H2O\", exp_J_max_arr, \"A\", mode_001 , exp_A_rot, A_mode_001, exp_B_rot, B_mode_001, exp_C_rot, C_mode_001)\n",
    "exp_R_nu3, exp_R_rot_nu3, exp_R_index_nu3 = asytop_v_R(\"H2O\", exp_J_max_arr, \"A\", mode_001 , exp_A_rot, A_mode_001, exp_B_rot, B_mode_001, exp_C_rot, C_mode_001)\n",
    "\n",
    "\n",
    "exp_nu1_I = Norm_I(exp_P_rot_nu1, exp_P_index_nu1, exp_Q_rot_nu1, exp_Q_index_nu1, exp_R_rot_nu1, exp_R_index_nu1, T, 1, 0.0051)\n",
    "##\n",
    "exp_nu2_I = Norm_I(exp_P_rot_nu2, exp_P_index_nu2, exp_Q_rot_nu2, exp_Q_index_nu2, exp_R_rot_nu2, exp_R_index_nu2, T, 1, 0.0317)\n",
    "##\n",
    "exp_nu3_I = Norm_I(exp_P_rot_nu3, exp_P_index_nu3, exp_Q_rot_nu3, exp_Q_index_nu3, exp_R_rot_nu3, exp_R_index_nu3, T, 1, 0.0225)\n",
    "##\n",
    "exp_Final_I = Fin_I(exp_nu1_I[0], exp_nu1_I[1], exp_nu1_I[2], exp_nu2_I[0], exp_nu2_I[1], exp_nu2_I[2], exp_nu3_I[0], exp_nu3_I[1], exp_nu3_I[2])\n",
    "\n",
    "##"
   ]
  },
  {
   "cell_type": "code",
   "execution_count": 30,
   "metadata": {},
   "outputs": [],
   "source": [
    "harm_B = (B[0], B[1], B[2])\n",
    "harm_J_max_arr, harm_A_rot, harm_B_rot, harm_C_rot = J_max_func(harm_B, T)\n",
    "\n",
    "harm_P_nu1, harm_P_rot_nu1, harm_P_index_nu1 = asytop_v_P(\"H2O\", harm_J_max_arr, \"B\", fundamentals_wn[1] , harm_A_rot, harm_A_rot, harm_B_rot, harm_B_rot, harm_C_rot, harm_C_rot)\n",
    "harm_Q_nu1, harm_Q_rot_nu1, harm_Q_index_nu1 = asytop_v_Q(\"H2O\", harm_J_max_arr, \"B\", fundamentals_wn[1] , harm_A_rot, harm_A_rot, harm_B_rot, harm_B_rot, harm_C_rot, harm_C_rot)\n",
    "harm_R_nu1, harm_R_rot_nu1, harm_R_index_nu1 = asytop_v_R(\"H2O\", harm_J_max_arr, \"B\", fundamentals_wn[1] , harm_A_rot, harm_A_rot, harm_B_rot, harm_B_rot, harm_C_rot, harm_C_rot)\n",
    "\n",
    "harm_P_nu2, harm_P_rot_nu2, harm_P_index_nu2 = asytop_v_P(\"H2O\", harm_J_max_arr, \"B\", fundamentals_wn[2] , harm_A_rot, harm_A_rot, harm_B_rot, harm_B_rot, harm_C_rot, harm_C_rot)\n",
    "harm_Q_nu2, harm_Q_rot_nu2, harm_Q_index_nu2 = asytop_v_Q(\"H2O\", harm_J_max_arr, \"B\", fundamentals_wn[2] , harm_A_rot, harm_A_rot, harm_B_rot, harm_B_rot, harm_C_rot, harm_C_rot)\n",
    "harm_R_nu2, harm_R_rot_nu2, harm_R_index_nu2 = asytop_v_R(\"H2O\", harm_J_max_arr, \"B\", fundamentals_wn[2] , harm_A_rot, harm_A_rot, harm_B_rot, harm_B_rot, harm_C_rot, harm_C_rot)\n",
    "\n",
    "harm_P_nu3, harm_P_rot_nu3, harm_P_index_nu3 = asytop_v_P(\"H2O\", harm_J_max_arr, \"A\", fundamentals_wn[0] , harm_A_rot, harm_A_rot, harm_B_rot, harm_B_rot, harm_C_rot, harm_C_rot)\n",
    "harm_Q_nu3, harm_Q_rot_nu3, harm_Q_index_nu3 = asytop_v_Q(\"H2O\", harm_J_max_arr, \"A\", fundamentals_wn[0] , harm_A_rot, harm_A_rot, harm_B_rot, harm_B_rot, harm_C_rot, harm_C_rot)\n",
    "harm_R_nu3, harm_R_rot_nu3, harm_R_index_nu3 = asytop_v_R(\"H2O\", harm_J_max_arr, \"A\", fundamentals_wn[0] , harm_A_rot, harm_A_rot, harm_B_rot, harm_B_rot, harm_C_rot, harm_C_rot)\n",
    "\n",
    "\n",
    "harm_nu1_I = Norm_I(harm_P_rot_nu1, harm_P_index_nu1, harm_Q_rot_nu1, harm_Q_index_nu1, harm_R_rot_nu1, harm_R_index_nu1, T, 1, 0.0051)\n",
    "##\n",
    "harm_nu2_I = Norm_I(harm_P_rot_nu2, harm_P_index_nu2, harm_Q_rot_nu2, harm_Q_index_nu2, harm_R_rot_nu2, harm_R_index_nu2, T, 1, 0.0317)\n",
    "##\n",
    "harm_nu3_I = Norm_I(harm_P_rot_nu3, harm_P_index_nu3, harm_Q_rot_nu3, harm_Q_index_nu3, harm_R_rot_nu3, harm_R_index_nu3, T, 1, 0.0225)\n",
    "##\n",
    "harm_Final_I = Fin_I(harm_nu1_I[0], harm_nu1_I[1], harm_nu1_I[2], harm_nu2_I[0], harm_nu2_I[1], harm_nu2_I[2], harm_nu3_I[0], harm_nu3_I[1], harm_nu3_I[2])"
   ]
  },
  {
   "cell_type": "code",
   "execution_count": 31,
   "metadata": {
    "button": false,
    "new_sheet": false,
    "run_control": {
     "read_only": false
    },
    "scrolled": true
   },
   "outputs": [
    {
     "data": {
      "image/png": "[encoded data removed]",
      "text/plain": [
       "<Figure size 1152x576 with 1 Axes>"
      ]
     },
     "metadata": {
      "needs_background": "light"
     },
     "output_type": "display_data"
    }
   ],
   "source": [
    "plt.figure(figsize=(16,8))\n",
    "plt.vlines(prime_freq,0, -prime_intensity, color=\"k\", label=\"HITRAN 2020\", linewidth=.5)\n",
    "\n",
    "plt.vlines(P_nu1, 0, Final_I[0], \"red\",label=\"Epimetheus (pyscf)\", linewidth=.5)\n",
    "plt.vlines(Q_nu1, 0, Final_I[1], \"red\", linewidth=.5)\n",
    "plt.vlines(R_nu1, 0, Final_I[2], \"red\", linewidth=.5)\n",
    "\n",
    "plt.vlines(P_nu2, 0, Final_I[3], \"red\", linewidth=.5)\n",
    "plt.vlines(Q_nu2, 0, Final_I[4], \"red\", linewidth=.5)\n",
    "plt.vlines(R_nu2, 0, Final_I[5], \"red\", linewidth=.5)\n",
    "\n",
    "plt.vlines(P_nu3, 0, Final_I[6], \"red\", linewidth=.5)\n",
    "plt.vlines(Q_nu3, 0, Final_I[7], \"red\", linewidth=.5)\n",
    "plt.vlines(R_nu3, 0, Final_I[8], \"red\", linewidth=.5)\n",
    "\n",
    "plt.vlines(harm_P_nu1, 0, harm_Final_I[0], \"green\", label=\"Harmonic (pyscf)\", linewidth=.5)\n",
    "plt.vlines(harm_Q_nu1, 0, harm_Final_I[1], \"green\", linewidth=.5)\n",
    "plt.vlines(harm_R_nu1, 0, harm_Final_I[2], \"green\", linewidth=.5)\n",
    "\n",
    "plt.vlines(harm_P_nu2, 0, harm_Final_I[3], \"green\", linewidth=.5)\n",
    "plt.vlines(harm_Q_nu2, 0, harm_Final_I[4], \"green\", linewidth=.5)\n",
    "plt.vlines(harm_R_nu2, 0, harm_Final_I[5], \"green\", linewidth=.5)\n",
    "\n",
    "plt.vlines(harm_P_nu3, 0, harm_Final_I[6], \"green\", linewidth=.5)\n",
    "plt.vlines(harm_Q_nu3, 0, harm_Final_I[7], \"green\", linewidth=.5)\n",
    "plt.vlines(harm_R_nu3, 0, harm_Final_I[8], \"green\", linewidth=.5)\n",
    "\n",
    "plt.xlim(1000, 4500)\n",
    "plt.xlabel(r\"Wavenumber (cm$^{-1}$)\", fontsize=16)\n",
    "plt.ylabel(r\"Normalized Intensity, $\\frac{N_J}{N}$\", fontsize=16)\n",
    "\n",
    "legend = plt.legend(loc = 'lower center', fontsize=16)\n",
    "for handl in legend.legendHandles:\n",
    "    handl.set_linewidth(3)\n",
    "\n",
    "plt.savefig(f\"EPI_H20_262_pyscf_epi_harm_{T}K.pdf\")\n",
    "\n",
    "plt.show()"
   ]
  },
  {
   "cell_type": "code",
   "execution_count": 32,
   "metadata": {},
   "outputs": [
    {
     "data": {
      "image/png": "[encoded data removed]",
      "text/plain": [
       "<Figure size 1152x576 with 1 Axes>"
      ]
     },
     "metadata": {
      "needs_background": "light"
     },
     "output_type": "display_data"
    }
   ],
   "source": [
    "plt.figure(figsize=(16,8))\n",
    "plt.vlines(prime_freq,0, -prime_intensity, color=\"k\", label=\"HITRAN 2020\", linewidth=.5)\n",
    "\n",
    "plt.vlines(P_nu1, 0, Final_I[0], \"red\", label=\"Epimetheus (pyscf)\", linewidth=.5)\n",
    "plt.vlines(Q_nu1, 0, Final_I[1], \"red\", linewidth=.5)\n",
    "plt.vlines(R_nu1, 0, Final_I[2], \"red\", linewidth=.5)\n",
    "\n",
    "plt.vlines(P_nu2, 0, Final_I[3], \"red\", linewidth=.5)\n",
    "plt.vlines(Q_nu2, 0, Final_I[4], \"red\", linewidth=.5)\n",
    "plt.vlines(R_nu2, 0, Final_I[5], \"red\", linewidth=.5)\n",
    "\n",
    "plt.vlines(P_nu3, 0, Final_I[6], \"red\", linewidth=.5)\n",
    "plt.vlines(Q_nu3, 0, Final_I[7], \"red\", linewidth=.5)\n",
    "plt.vlines(R_nu3, 0, Final_I[8], \"red\", linewidth=.5)\n",
    "\n",
    "\n",
    "plt.vlines(exp_P_nu1, 0, exp_Final_I[0], \"blue\",linestyle='dashed', label=\"13TeBe + 84ReWa\", linewidth=.5)\n",
    "plt.vlines(exp_Q_nu1, 0, exp_Final_I[1], \"blue\",linestyle='dashed', linewidth=.5)\n",
    "plt.vlines(exp_R_nu1, 0, exp_Final_I[2], \"blue\",linestyle='dashed', linewidth=.5)\n",
    "\n",
    "plt.vlines(exp_P_nu2, 0, exp_Final_I[3], \"blue\",linestyle='dashed', linewidth=.5)\n",
    "plt.vlines(exp_Q_nu2, 0, exp_Final_I[4], \"blue\",linestyle='dashed', linewidth=.5)\n",
    "plt.vlines(exp_R_nu2, 0, exp_Final_I[5], \"blue\",linestyle='dashed', linewidth=.5)\n",
    "\n",
    "plt.vlines(exp_P_nu3, 0, exp_Final_I[6], \"blue\",linestyle='dashed', linewidth=.5)\n",
    "plt.vlines(exp_Q_nu3, 0, exp_Final_I[7], \"blue\",linestyle='dashed', linewidth=.5)\n",
    "plt.vlines(exp_R_nu3, 0, exp_Final_I[8], \"blue\",linestyle='dashed', linewidth=.5)\n",
    "\n",
    "plt.xlim(1000, 4500)\n",
    "plt.xlabel(r\"Wavenumber (cm$^{-1}$)\", fontsize=16)\n",
    "plt.ylabel(r\"Normalized Intensity, $\\frac{N_J}{N}$\", fontsize=16)\n",
    "\n",
    "legend = plt.legend(loc = 'lower center', fontsize=16)\n",
    "for handl in legend.legendHandles:\n",
    "    handl.set_linewidth(3)\n",
    "\n",
    "plt.savefig(f\"EPI_H20_262_pyscf_epi_lit_{T}K.pdf\")\n",
    "\n",
    "plt.show()"
   ]
  },
  {
   "cell_type": "code",
   "execution_count": null,
   "metadata": {},
   "outputs": [],
   "source": []
  }
 ],
 "metadata": {
  "kernelspec": {
   "display_name": "Python 3",
   "language": "python",
   "name": "python3"
  },
  "language_info": {
   "codemirror_mode": {
    "name": "ipython",
    "version": 3
   },
   "file_extension": ".py",
   "mimetype": "text/x-python",
   "name": "python",
   "nbconvert_exporter": "python",
   "pygments_lexer": "ipython3",
   "version": "3.8.3"
  }
 },
 "nbformat": 4,
 "nbformat_minor": 4
}
