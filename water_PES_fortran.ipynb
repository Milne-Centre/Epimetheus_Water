{
 "cells": [
  {
   "cell_type": "code",
   "execution_count": 2,
   "metadata": {
    "button": false,
    "jupyter": {
     "outputs_hidden": false
    },
    "new_sheet": false,
    "run_control": {
     "read_only": false
    }
   },
   "outputs": [],
   "source": [
    "#PES for Water\n",
    "import subprocess\n",
    "def PES(Key, Pos, molecule):\n",
    "    # **** Input ****\n",
    "    # Positions: angstroms [Å]\n",
    "    \n",
    "    #using the data that is already provided. \n",
    "    r1=Key[1]\n",
    "    r2=Key[2]\n",
    "    angle=Key[4]\n",
    "    \n",
    "    #Create a file that contains r1,r2 and angle (angs and radian)\n",
    "    f = open(\"water.txt\", \"w\")\n",
    "    f.write(\"%.16f %.16f %.16f\"%(r1,r2,angle))\n",
    "    f.close()\n",
    "    \n",
    "    #Call the pot.x executable with the new file created to compute the energy\n",
    "    subprocess.run([\"./pot_water.x\", \"water.txt\"])\n",
    "    \n",
    "    #Read the energy file (value in Hartrees)\n",
    "    f = open(\"ENERGY\", \"r\")\n",
    "    value=f.read()\n",
    "    f.close()\n",
    "    \n",
    "    E_Total=float(value.split()[0])\n",
    "    #print(r1,r2,angle,E_Total)\n",
    "    \n",
    "    return E_Total"
   ]
  },
  {
   "cell_type": "code",
   "execution_count": null,
   "metadata": {},
   "outputs": [],
   "source": []
  }
 ],
 "metadata": {
  "kernelspec": {
   "display_name": "Python 3",
   "language": "python",
   "name": "python3"
  },
  "language_info": {
   "codemirror_mode": {
    "name": "ipython",
    "version": 3
   },
   "file_extension": ".py",
   "mimetype": "text/x-python",
   "name": "python",
   "nbconvert_exporter": "python",
   "pygments_lexer": "ipython3",
   "version": "3.8.3"
  }
 },
 "nbformat": 4,
 "nbformat_minor": 4
}
