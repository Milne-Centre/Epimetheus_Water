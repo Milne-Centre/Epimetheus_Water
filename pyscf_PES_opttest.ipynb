{
 "cells": [
  {
   "cell_type": "code",
   "execution_count": 1,
   "metadata": {
    "jupyter": {
     "outputs_hidden": true
    },
    "tags": []
   },
   "outputs": [],
   "source": [
    "#pip install pyscf"
   ]
  },
  {
   "cell_type": "code",
   "execution_count": 2,
   "metadata": {
    "jupyter": {
     "outputs_hidden": true
    },
    "tags": []
   },
   "outputs": [],
   "source": [
    "#pip install geometric"
   ]
  },
  {
   "cell_type": "code",
   "execution_count": 3,
   "metadata": {
    "scrolled": true,
    "tags": []
   },
   "outputs": [
    {
     "name": "stderr",
     "output_type": "stream",
     "text": [
      "/Users/thomascross/opt/anaconda3/lib/python3.8/site-packages/pyscf/dft/libxc.py:771: UserWarning: Since PySCF-2.3, B3LYP (and B3P86) are changed to the VWN-RPA variant, corresponding to the original definition by Stephens et al. (issue 1480) and the same as the B3LYP functional in Gaussian. To restore the VWN5 definition, you can put the setting \"B3LYP_WITH_VWN5 = True\" in pyscf_conf.py\n",
      "  warnings.warn('Since PySCF-2.3, B3LYP (and B3P86) are changed to the VWN-RPA variant, '\n",
      "geometric-optimize called with the following command line:\n",
      "/Users/thomascross/opt/anaconda3/lib/python3.8/site-packages/ipykernel_launcher.py -f /Users/thomascross/Library/Jupyter/runtime/kernel-a9a4890e-eb7d-4ca7-82e8-af10989a42e9.json\n",
      "\n",
      "                                        \u001b[91m())))))))))))))))/\u001b[0m                     \n",
      "                                    \u001b[91m())))))))))))))))))))))))),\u001b[0m                \n",
      "                                \u001b[91m*)))))))))))))))))))))))))))))))))\u001b[0m             \n",
      "                        \u001b[94m#,\u001b[0m    \u001b[91m()))))))))/\u001b[0m                \u001b[91m.)))))))))),\u001b[0m          \n",
      "                      \u001b[94m#%%%%,\u001b[0m  \u001b[91m())))))\u001b[0m                        \u001b[91m.))))))))*\u001b[0m        \n",
      "                      \u001b[94m*%%%%%%,\u001b[0m  \u001b[91m))\u001b[0m              \u001b[93m..\u001b[0m              \u001b[91m,))))))).\u001b[0m      \n",
      "                        \u001b[94m*%%%%%%,\u001b[0m         \u001b[93m***************/.\u001b[0m        \u001b[91m.)))))))\u001b[0m     \n",
      "                \u001b[94m#%%/\u001b[0m      \u001b[94m(%%%%%%,\u001b[0m    \u001b[93m/*********************.\u001b[0m       \u001b[91m)))))))\u001b[0m    \n",
      "              \u001b[94m.%%%%%%#\u001b[0m      \u001b[94m*%%%%%%,\u001b[0m  \u001b[93m*******/,\u001b[0m     \u001b[93m**********,\u001b[0m      \u001b[91m.))))))\u001b[0m   \n",
      "                \u001b[94m.%%%%%%/\u001b[0m      \u001b[94m*%%%%%%,\u001b[0m  \u001b[93m**\u001b[0m              \u001b[93m********\u001b[0m      \u001b[91m.))))))\u001b[0m  \n",
      "          \u001b[94m##\u001b[0m      \u001b[94m.%%%%%%/\u001b[0m      \u001b[94m(%%%%%%,\u001b[0m                  \u001b[93m,******\u001b[0m      \u001b[91m/)))))\u001b[0m  \n",
      "        \u001b[94m%%%%%%\u001b[0m      \u001b[94m.%%%%%%#\u001b[0m      \u001b[94m*%%%%%%,\u001b[0m    \u001b[92m,/////.\u001b[0m       \u001b[93m******\u001b[0m      \u001b[91m))))))\u001b[0m \n",
      "      \u001b[94m#%\u001b[0m      \u001b[94m%%\u001b[0m      \u001b[94m.%%%%%%/\u001b[0m      \u001b[94m*%%%%%%,\u001b[0m  \u001b[92m////////,\u001b[0m      \u001b[93m*****/\u001b[0m     \u001b[91m,)))))\u001b[0m \n",
      "    \u001b[94m#%%\u001b[0m  \u001b[94m%%%\u001b[0m  \u001b[94m%%%#\u001b[0m      \u001b[94m.%%%%%%/\u001b[0m      \u001b[94m(%%%%%%,\u001b[0m  \u001b[92m///////.\u001b[0m     \u001b[93m/*****\u001b[0m      \u001b[91m))))).\u001b[0m\n",
      "  \u001b[94m#%%%%.\u001b[0m      \u001b[94m%%%%%#\u001b[0m      \u001b[94m/%%%%%%*\u001b[0m      \u001b[94m#%%%%%%\u001b[0m   \u001b[92m/////)\u001b[0m     \u001b[93m******\u001b[0m      \u001b[91m))))),\u001b[0m\n",
      "    \u001b[94m#%%%%##%\u001b[0m  \u001b[94m%%%#\u001b[0m      \u001b[94m.%%%%%%/\u001b[0m      \u001b[94m(%%%%%%,\u001b[0m  \u001b[92m///////.\u001b[0m     \u001b[93m/*****\u001b[0m      \u001b[91m))))).\u001b[0m\n",
      "      \u001b[94m##\u001b[0m     \u001b[94m%%%\u001b[0m      \u001b[94m.%%%%%%/\u001b[0m      \u001b[94m*%%%%%%,\u001b[0m  \u001b[92m////////.\u001b[0m      \u001b[93m*****/\u001b[0m     \u001b[91m,)))))\u001b[0m \n",
      "        \u001b[94m#%%%%#\u001b[0m      \u001b[94m/%%%%%%/\u001b[0m      \u001b[94m(%%%%%%\u001b[0m      \u001b[92m/)/)//\u001b[0m       \u001b[93m******\u001b[0m      \u001b[91m))))))\u001b[0m \n",
      "          \u001b[94m##\u001b[0m      \u001b[94m.%%%%%%/\u001b[0m      \u001b[94m(%%%%%%,\u001b[0m                  \u001b[93m*******\u001b[0m      \u001b[91m))))))\u001b[0m  \n",
      "                \u001b[94m.%%%%%%/\u001b[0m      \u001b[94m*%%%%%%,\u001b[0m  \u001b[93m**.\u001b[0m             \u001b[93m/*******\u001b[0m      \u001b[91m.))))))\u001b[0m  \n",
      "              \u001b[94m*%%%%%%/\u001b[0m      \u001b[94m(%%%%%%\u001b[0m   \u001b[93m********/*..,*/*********\u001b[0m       \u001b[91m*))))))\u001b[0m   \n",
      "                \u001b[94m#%%/\u001b[0m      \u001b[94m(%%%%%%,\u001b[0m    \u001b[93m*********************/\u001b[0m        \u001b[91m)))))))\u001b[0m    \n",
      "                        \u001b[94m*%%%%%%,\u001b[0m         \u001b[93m,**************/\u001b[0m         \u001b[91m,))))))/\u001b[0m     \n",
      "                      \u001b[94m(%%%%%%\u001b[0m   \u001b[91m()\u001b[0m                              \u001b[91m))))))))\u001b[0m       \n",
      "                      \u001b[94m#%%%%,\u001b[0m  \u001b[91m())))))\u001b[0m                        \u001b[91m,)))))))),\u001b[0m        \n",
      "                        \u001b[94m#,\u001b[0m    \u001b[91m())))))))))\u001b[0m                \u001b[91m,)))))))))).\u001b[0m          \n",
      "                                 \u001b[91m()))))))))))))))))))))))))))))))/\u001b[0m             \n",
      "                                    \u001b[91m())))))))))))))))))))))))).\u001b[0m                \n",
      "                                         \u001b[91m())))))))))))))),\u001b[0m                     \n",
      "\n",
      "-=# \u001b[1;94m geomeTRIC started. Version: 1.0.1 \u001b[0m #=-\n",
      "Current date and time: 2023-11-29 13:43:04\n",
      "Custom engine selected.\n",
      "Bonds will be generated from interatomic distances less than 1.20 times sum of covalent radii\n",
      "9 internal coordinates being used (instead of 9 Cartesians)\n",
      "Internal coordinate system (atoms numbered from 1):\n",
      "Distance 1-2\n",
      "Distance 2-3\n",
      "Angle 1-2-3\n",
      "Translation-X 1-3\n",
      "Translation-Y 1-3\n",
      "Translation-Z 1-3\n",
      "Rotation-A 1-3\n",
      "Rotation-B 1-3\n",
      "Rotation-C 1-3\n",
      "<class 'geometric.internal.Distance'> : 2\n",
      "<class 'geometric.internal.Angle'> : 1\n",
      "<class 'geometric.internal.TranslationX'> : 1\n",
      "<class 'geometric.internal.TranslationY'> : 1\n",
      "<class 'geometric.internal.TranslationZ'> : 1\n",
      "<class 'geometric.internal.RotationA'> : 1\n",
      "<class 'geometric.internal.RotationB'> : 1\n",
      "<class 'geometric.internal.RotationC'> : 1\n",
      "> ===== Optimization Info: ====\n",
      "> Job type: Energy minimization\n",
      "> Maximum number of optimization cycles: 300\n",
      "> Initial / maximum trust radius (Angstrom): 0.100 / 0.300\n",
      "> Convergence Criteria:\n",
      "> Will converge when all 5 criteria are reached:\n",
      ">  |Delta-E| < 1.00e-06\n",
      ">  RMS-Grad  < 3.00e-04\n",
      ">  Max-Grad  < 4.50e-04\n",
      ">  RMS-Disp  < 1.20e-03\n",
      ">  Max-Disp  < 1.80e-03\n",
      "> === End Optimization Info ===\n"
     ]
    },
    {
     "name": "stdout",
     "output_type": "stream",
     "text": [
      "\n",
      "Geometry optimization cycle 1\n",
      "Cartesian coordinates (Angstrom)\n",
      " Atom        New coordinates             dX        dY        dZ\n",
      "   O  -1.237100   0.721500   0.000000    0.000000 -0.000000  0.000000\n",
      "   S   0.000000   0.000000   0.000000    0.000000  0.000000  0.000000\n",
      "   O   1.237100   0.721500   0.000000    0.000000 -0.000000  0.000000\n",
      "converged SCF energy = -548.629981032626\n",
      "--------------- SymAdaptedRKS_Scanner gradients ---------------\n",
      "         x                y                z\n",
      "0 O     0.0045985170    -0.0033281871    -0.0000000000\n",
      "1 S     0.0000000000     0.0066592632     0.0000000000\n",
      "2 O    -0.0045985170    -0.0033281871    -0.0000000000\n",
      "----------------------------------------------\n",
      "cycle 1: E = -548.629981033  dE = -548.63  norm(grad) = 0.0104303\n"
     ]
    },
    {
     "name": "stderr",
     "output_type": "stream",
     "text": [
      "Step    0 : Gradient = 6.022e-03/6.659e-03 (rms/max) Energy = -548.6299810326\n",
      "Hessian Eigenvalues: 5.00000e-02 5.00000e-02 5.00000e-02 ... 2.50000e-01 1.04385e+00 1.04385e+00\n"
     ]
    },
    {
     "name": "stdout",
     "output_type": "stream",
     "text": [
      "\n",
      "Geometry optimization cycle 2\n",
      "Cartesian coordinates (Angstrom)\n",
      " Atom        New coordinates             dX        dY        dZ\n",
      "   O  -1.237381   0.723200  -0.000000   -0.000281  0.001700 -0.000000\n",
      "   S  -0.000000  -0.003491   0.000000   -0.000000 -0.003491  0.000000\n",
      "   O   1.237381   0.723200   0.000000    0.000281  0.001700 -0.000000\n",
      "\n",
      "WARN: Large deviations found between the input molecule and the molecule from chkfile\n",
      "Initial guess density matrix may have large error.\n",
      "\n",
      "converged SCF energy = -548.630026477767\n",
      "--------------- SymAdaptedRKS_Scanner gradients ---------------\n",
      "         x                y                z\n",
      "0 O     0.0018406861    -0.0008697317    -0.0000000000\n",
      "1 S    -0.0000000000     0.0017344463     0.0000000000\n",
      "2 O    -0.0018406861    -0.0008697317    -0.0000000000\n",
      "----------------------------------------------\n",
      "cycle 2: E = -548.630026478  dE = -4.54451e-05  norm(grad) = 0.00336116\n"
     ]
    },
    {
     "name": "stderr",
     "output_type": "stream",
     "text": [
      "Step    1 : Displace = \u001b[0m2.458e-03\u001b[0m/\u001b[0m3.460e-03\u001b[0m (rms/max) Trust = 1.000e-01 (=) Grad = \u001b[0m1.941e-03\u001b[0m/\u001b[0m2.036e-03\u001b[0m (rms/max) E (change) = -548.6300264778 (\u001b[0m-4.545e-05\u001b[0m) Quality = \u001b[0m1.293\u001b[0m\n",
      "Hessian Eigenvalues: 5.00000e-02 5.00000e-02 5.00000e-02 ... 2.93827e-01 6.49084e-01 1.04385e+00\n"
     ]
    },
    {
     "name": "stdout",
     "output_type": "stream",
     "text": [
      "\n",
      "Geometry optimization cycle 3\n",
      "Cartesian coordinates (Angstrom)\n",
      " Atom        New coordinates             dX        dY        dZ\n",
      "   O  -1.239611   0.723118   0.000000   -0.002230 -0.000082 -0.000000\n",
      "   S  -0.000000  -0.003118   0.000000   -0.000000  0.000373  0.000000\n",
      "   O   1.239611   0.723118   0.000000    0.002230 -0.000082 -0.000000\n",
      "converged SCF energy = -548.630032033511\n",
      "--------------- SymAdaptedRKS_Scanner gradients ---------------\n",
      "         x                y                z\n",
      "0 O    -0.0003191471    -0.0000338108     0.0000000000\n",
      "1 S    -0.0000000000     0.0000594345    -0.0000000000\n",
      "2 O     0.0003191471    -0.0000338108     0.0000000000\n",
      "----------------------------------------------\n",
      "cycle 3: E = -548.630032034  dE = -5.55574e-06  norm(grad) = 0.000457743\n"
     ]
    },
    {
     "name": "stderr",
     "output_type": "stream",
     "text": [
      "Step    2 : Displace = \u001b[0m1.833e-03\u001b[0m/\u001b[0m2.235e-03\u001b[0m (rms/max) Trust = 1.414e-01 (\u001b[92m+\u001b[0m) Grad = \u001b[92m2.643e-04\u001b[0m/\u001b[92m3.209e-04\u001b[0m (rms/max) E (change) = -548.6300320335 (\u001b[0m-5.556e-06\u001b[0m) Quality = \u001b[0m0.792\u001b[0m\n",
      "Hessian Eigenvalues: 4.99929e-02 5.00000e-02 5.00000e-02 ... 3.27600e-01 6.96102e-01 1.04385e+00\n"
     ]
    },
    {
     "name": "stdout",
     "output_type": "stream",
     "text": [
      "\n",
      "Geometry optimization cycle 4\n",
      "Cartesian coordinates (Angstrom)\n",
      " Atom        New coordinates             dX        dY        dZ\n",
      "   O  -1.238961   0.723464   0.000000    0.000649  0.000346 -0.000000\n",
      "   S  -0.000000  -0.003583   0.000000   -0.000000 -0.000464  0.000000\n",
      "   O   1.238961   0.723464   0.000000   -0.000649  0.000346 -0.000000\n",
      "converged SCF energy = -548.630032576682\n",
      "--------------- SymAdaptedRKS_Scanner gradients ---------------\n",
      "         x                y                z\n",
      "0 O    -0.0000059786     0.0000258718    -0.0000000000\n",
      "1 S     0.0000000000    -0.0000597362     0.0000000000\n",
      "2 O     0.0000059786     0.0000258718    -0.0000000000\n",
      "----------------------------------------------\n",
      "cycle 4: E = -548.630032577  dE = -5.43171e-07  norm(grad) = 7.05592e-05\n"
     ]
    },
    {
     "name": "stderr",
     "output_type": "stream",
     "text": [
      "Step    3 : Displace = \u001b[92m6.533e-04\u001b[0m/\u001b[92m7.030e-04\u001b[0m (rms/max) Trust = 2.000e-01 (\u001b[92m+\u001b[0m) Grad = \u001b[92m4.074e-05\u001b[0m/\u001b[92m5.974e-05\u001b[0m (rms/max) E (change) = -548.6300325767 (\u001b[92m-5.432e-07\u001b[0m) Quality = \u001b[0m1.236\u001b[0m\n",
      "Hessian Eigenvalues: 4.99929e-02 5.00000e-02 5.00000e-02 ... 3.27600e-01 6.96102e-01 1.04385e+00\n",
      "Converged! =D\n",
      "\n",
      "    #==========================================================================#\n",
      "    #| If this code has benefited your research, please support us by citing: |#\n",
      "    #|                                                                        |#\n",
      "    #| Wang, L.-P.; Song, C.C. (2016) \"Geometry optimization made simple with |#\n",
      "    #| translation and rotation coordinates\", J. Chem, Phys. 144, 214108.     |#\n",
      "    #| http://dx.doi.org/10.1063/1.4952956                                    |#\n",
      "    #==========================================================================#\n",
      "    Time elapsed since start of run_optimizer: 89.142 seconds\n"
     ]
    }
   ],
   "source": [
    "import pyscf\n",
    "from pyscf.geomopt import geometric_solver\n",
    "\n",
    "mypos='O -1.2371 0.7215 0.0; S 0.00000000 0.00000000 0.00000000; O 1.2371 0.7215 0.000'\n",
    "mymol = pyscf.M(atom = mypos, basis = 'def2-tzvpd', symmetry = True,)\n",
    "mf = mymol.KS()\n",
    "mf.xc = 'b97-1'\n",
    "\n",
    "new_mol = geometric_solver.optimize(mf)"
   ]
  },
  {
   "cell_type": "code",
   "execution_count": 4,
   "metadata": {
    "tags": []
   },
   "outputs": [
    {
     "data": {
      "text/plain": [
       "array([[-1.23896158e+00,  7.23463686e-01, -1.60641208e-16],\n",
       "       [ 2.19368617e-19, -3.58256140e-03,  7.95488430e-19],\n",
       "       [ 1.23896158e+00,  7.23463686e-01, -1.60641208e-16]])"
      ]
     },
     "execution_count": 4,
     "metadata": {},
     "output_type": "execute_result"
    }
   ],
   "source": [
    "#convert to angstroms \n",
    "new_mol.atom_coords()*0.529177249"
   ]
  },
  {
   "cell_type": "code",
   "execution_count": null,
   "metadata": {},
   "outputs": [],
   "source": []
  }
 ],
 "metadata": {
  "kernelspec": {
   "display_name": "Python 3",
   "language": "python",
   "name": "python3"
  },
  "language_info": {
   "codemirror_mode": {
    "name": "ipython",
    "version": 3
   },
   "file_extension": ".py",
   "mimetype": "text/x-python",
   "name": "python",
   "nbconvert_exporter": "python",
   "pygments_lexer": "ipython3",
   "version": "3.8.3"
  }
 },
 "nbformat": 4,
 "nbformat_minor": 4
}
